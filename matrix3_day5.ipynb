{
  "nbformat": 4,
  "nbformat_minor": 0,
  "metadata": {
    "colab": {
      "name": "matrix3_day5.ipynb",
      "provenance": [],
      "mount_file_id": "189ThWSxhCVI-kiYmfI4IyCpDLWqIwsZx",
      "authorship_tag": "ABX9TyMu7YBPkDtPg81RW8yB6SsL",
      "include_colab_link": true
    },
    "kernelspec": {
      "name": "python3",
      "display_name": "Python 3"
    },
    "accelerator": "GPU"
  },
  "cells": [
    {
      "cell_type": "markdown",
      "metadata": {
        "id": "view-in-github",
        "colab_type": "text"
      },
      "source": [
        "<a href=\"https://colab.research.google.com/github/ronaldexim/dw_matrix_road_sign/blob/master/matrix3_day5.ipynb\" target=\"_parent\"><img src=\"https://colab.research.google.com/assets/colab-badge.svg\" alt=\"Open In Colab\"/></a>"
      ]
    },
    {
      "cell_type": "code",
      "metadata": {
        "id": "kX5JDWdWqE6M",
        "colab_type": "code",
        "colab": {
          "base_uri": "https://localhost:8080/",
          "height": 190
        },
        "outputId": "35dfa827-dd16-4bdf-ec12-a4c6502a2388"
      },
      "source": [
        "!pip install hyperopt"
      ],
      "execution_count": 6,
      "outputs": [
        {
          "output_type": "stream",
          "text": [
            "Requirement already satisfied: hyperopt in /usr/local/lib/python3.6/dist-packages (0.1.2)\n",
            "Requirement already satisfied: six in /usr/local/lib/python3.6/dist-packages (from hyperopt) (1.12.0)\n",
            "Requirement already satisfied: numpy in /usr/local/lib/python3.6/dist-packages (from hyperopt) (1.18.2)\n",
            "Requirement already satisfied: networkx in /usr/local/lib/python3.6/dist-packages (from hyperopt) (2.4)\n",
            "Requirement already satisfied: future in /usr/local/lib/python3.6/dist-packages (from hyperopt) (0.16.0)\n",
            "Requirement already satisfied: scipy in /usr/local/lib/python3.6/dist-packages (from hyperopt) (1.4.1)\n",
            "Requirement already satisfied: pymongo in /usr/local/lib/python3.6/dist-packages (from hyperopt) (3.10.1)\n",
            "Requirement already satisfied: tqdm in /usr/local/lib/python3.6/dist-packages (from hyperopt) (4.38.0)\n",
            "Requirement already satisfied: decorator>=4.3.0 in /usr/local/lib/python3.6/dist-packages (from networkx->hyperopt) (4.4.2)\n"
          ],
          "name": "stdout"
        }
      ]
    },
    {
      "cell_type": "code",
      "metadata": {
        "id": "t3hdA5epo9kx",
        "colab_type": "code",
        "colab": {
          "base_uri": "https://localhost:8080/",
          "height": 51
        },
        "outputId": "4437612c-c0ac-44d7-c92b-c2847e85e075"
      },
      "source": [
        "import pandas as pd\n",
        "import numpy as np\n",
        "import tensorflow as tf\n",
        "from tensorflow.keras.models import Sequential\n",
        "from tensorflow.keras.layers import Conv2D, MaxPool2D, Dense, Flatten, Dropout\n",
        "from tensorflow.keras.utils import to_categorical\n",
        "import os, datetime\n",
        "import matplotlib.pyplot as plt\n",
        "from skimage import color, exposure\n",
        "from sklearn.metrics import accuracy_score\n",
        "from tqdm import tqdm\n",
        "from hyperopt import hp, STATUS_OK, tpe, Trials, fmin\n",
        "\n",
        "%load_ext tensorboard"
      ],
      "execution_count": 18,
      "outputs": [
        {
          "output_type": "stream",
          "text": [
            "The tensorboard extension is already loaded. To reload it, use:\n",
            "  %reload_ext tensorboard\n"
          ],
          "name": "stdout"
        }
      ]
    },
    {
      "cell_type": "code",
      "metadata": {
        "id": "sy1xhej6pFhU",
        "colab_type": "code",
        "colab": {
          "base_uri": "https://localhost:8080/",
          "height": 34
        },
        "outputId": "8c5e9afc-bca2-4490-ed57-2fffd43dba64"
      },
      "source": [
        "cd '/content/drive/My Drive/Colab Notebooks/dw_matrix/matrix_three/dw_matrix_road_sign/data'"
      ],
      "execution_count": 2,
      "outputs": [
        {
          "output_type": "stream",
          "text": [
            "/content/drive/My Drive/Colab Notebooks/dw_matrix/matrix_three/dw_matrix_road_sign/data\n"
          ],
          "name": "stdout"
        }
      ]
    },
    {
      "cell_type": "code",
      "metadata": {
        "id": "UpwJgZ_5pLVz",
        "colab_type": "code",
        "colab": {}
      },
      "source": [
        "names = pd.read_csv('signnames.csv')\n",
        "labels_dict = names.to_dict()['b']"
      ],
      "execution_count": 0,
      "outputs": []
    },
    {
      "cell_type": "code",
      "metadata": {
        "id": "DC2zGMU-pPZt",
        "colab_type": "code",
        "colab": {}
      },
      "source": [
        "train = pd.read_pickle('train.p')\n",
        "test = pd.read_pickle('test.p')\n",
        "X_train, y_train = train['features'], train['labels']\n",
        "X_test, y_test = test['features'], test['labels']"
      ],
      "execution_count": 0,
      "outputs": []
    },
    {
      "cell_type": "code",
      "metadata": {
        "id": "RIZqojDPpR_U",
        "colab_type": "code",
        "colab": {
          "base_uri": "https://localhost:8080/",
          "height": 34
        },
        "outputId": "3fd77a5e-72ed-4479-a55c-6bc09cb2a341"
      },
      "source": [
        "if y_train.ndim == 1: y_train = to_categorical(y_train)\n",
        "if y_test.ndim == 1: y_test = to_categorical(y_test)\n",
        "y_train.shape, y_test.shape"
      ],
      "execution_count": 5,
      "outputs": [
        {
          "output_type": "execute_result",
          "data": {
            "text/plain": [
              "((34799, 43), (4410, 43))"
            ]
          },
          "metadata": {
            "tags": []
          },
          "execution_count": 5
        }
      ]
    },
    {
      "cell_type": "code",
      "metadata": {
        "id": "j3rsfB3bpUlX",
        "colab_type": "code",
        "colab": {}
      },
      "source": [
        "input_shape = X_train.shape[1:]\n",
        "num_classes = y_train.shape[1]"
      ],
      "execution_count": 0,
      "outputs": []
    },
    {
      "cell_type": "code",
      "metadata": {
        "id": "3GlHPNTHWyub",
        "colab_type": "code",
        "colab": {}
      },
      "source": [
        "params_fit ={\n",
        "    'epochs': 25\n",
        "}"
      ],
      "execution_count": 0,
      "outputs": []
    },
    {
      "cell_type": "code",
      "metadata": {
        "id": "iqcfPEImVQ93",
        "colab_type": "code",
        "colab": {}
      },
      "source": [
        "def train_model(model, X_train, y_train, params_fit={}):\n",
        "        model.compile(loss='categorical_crossentropy', optimizer='Adam', metrics='accuracy')\n",
        "\n",
        "        logdir = os.path.join(\"logs\", datetime.datetime.now().strftime(\"%Y%m%d-%H%M%S\"))\n",
        "        tensorboard_callback = tf.keras.callbacks.TensorBoard(logdir, histogram_freq=1)\n",
        "\n",
        "        model.fit(\n",
        "            X_train, \n",
        "            y_train,\n",
        "            batch_size = params_fit.get('batch_size', 128),\n",
        "            epochs = params_fit.get('epochs', 5),\n",
        "            verbose = params_fit.get('verbose', 1),\n",
        "            validation_data = params_fit.get('validation_data', (X_train, y_train)),\n",
        "            callbacks = [tensorboard_callback]\n",
        "            )\n",
        "        return model\n",
        "\n",
        "def predict(model_trained, X_test, y_test, scoring=accuracy_score):\n",
        "\n",
        "    y_test_norm = np.argmax(y_test, axis=1)\n",
        "\n",
        "    y_pred_prob = model_trained.predict(X_test)\n",
        "    y_pred = np.argmax(y_pred_prob, axis=1)\n",
        "\n",
        "    return scoring(y_test_norm, y_pred)"
      ],
      "execution_count": 0,
      "outputs": []
    },
    {
      "cell_type": "code",
      "metadata": {
        "id": "U0huI2NEV9W1",
        "colab_type": "code",
        "colab": {}
      },
      "source": [
        "def get_cnn_v5(input_shape, num_classes):\n",
        "    model = Sequential([\n",
        "        Conv2D(filters=32, kernel_size=(3,3), activation='relu', input_shape=input_shape),\n",
        "        Conv2D(filters=32, kernel_size=(3,3), activation='relu', padding='same'),\n",
        "        MaxPool2D(),\n",
        "        Dropout(0.3),\n",
        "\n",
        "        Conv2D(filters=64, kernel_size=(3,3), activation='relu', padding='same'),\n",
        "        Conv2D(filters=64, kernel_size=(3,3), activation='relu'),\n",
        "        MaxPool2D(),\n",
        "        Dropout(0.3),\n",
        "\n",
        "        Conv2D(filters=64, kernel_size=(3,3), activation='relu', padding='same'),\n",
        "        Conv2D(filters=64, kernel_size=(3,3), activation='relu'),\n",
        "        MaxPool2D(),\n",
        "        Dropout(0.3),\n",
        "\n",
        "        Flatten(),\n",
        "\n",
        "        Dense(1024, activation='relu'),\n",
        "        Dropout(0.3),   \n",
        "        Dense(num_classes, activation='softmax'),\n",
        "    ])\n",
        "    model.summary()\n",
        "    return model\n",
        "\n",
        "def get_cnn_v6(input_shape, num_classes):\n",
        "    model = Sequential([\n",
        "        Conv2D(filters=32, kernel_size=(3,3), activation='relu', input_shape=input_shape),\n",
        "        Conv2D(filters=32, kernel_size=(3,3), activation='relu', padding='same'),\n",
        "        MaxPool2D(),\n",
        "        Dropout(0.3),\n",
        "\n",
        "        Conv2D(filters=64, kernel_size=(3,3), activation='relu', padding='same'),\n",
        "        Conv2D(filters=64, kernel_size=(3,3), activation='relu'),\n",
        "        MaxPool2D(),\n",
        "        Dropout(0.3),\n",
        "\n",
        "        Conv2D(filters=64, kernel_size=(3,3), activation='relu', padding='same'),\n",
        "        Conv2D(filters=64, kernel_size=(3,3), activation='relu'),\n",
        "        MaxPool2D(),\n",
        "        Dropout(0.3),\n",
        "\n",
        "        Flatten(),\n",
        "\n",
        "        Dense(1024, activation='relu'),\n",
        "        Dropout(0.3),\n",
        "\n",
        "        Dense(1024, activation='relu'),\n",
        "        Dropout(0.3),\n",
        "\n",
        "        Dense(num_classes, activation='softmax'),\n",
        "    ])\n",
        "    model.summary()\n",
        "    return model"
      ],
      "execution_count": 0,
      "outputs": []
    },
    {
      "cell_type": "code",
      "metadata": {
        "id": "hC2e33JhVY6H",
        "colab_type": "code",
        "colab": {
          "base_uri": "https://localhost:8080/",
          "height": 1000
        },
        "outputId": "0d8371e2-7d36-410b-bbd7-bcd1f5e07486"
      },
      "source": [
        "model = get_cnn_v5(input_shape, num_classes)\n",
        "model_trained = train_model(model, X_train, y_train, params_fit)\n",
        "predict(model_trained, X_test, y_test)"
      ],
      "execution_count": 12,
      "outputs": [
        {
          "output_type": "stream",
          "text": [
            "Model: \"sequential_1\"\n",
            "_________________________________________________________________\n",
            "Layer (type)                 Output Shape              Param #   \n",
            "=================================================================\n",
            "conv2d_6 (Conv2D)            (None, 30, 30, 32)        896       \n",
            "_________________________________________________________________\n",
            "conv2d_7 (Conv2D)            (None, 30, 30, 32)        9248      \n",
            "_________________________________________________________________\n",
            "max_pooling2d_3 (MaxPooling2 (None, 15, 15, 32)        0         \n",
            "_________________________________________________________________\n",
            "dropout_4 (Dropout)          (None, 15, 15, 32)        0         \n",
            "_________________________________________________________________\n",
            "conv2d_8 (Conv2D)            (None, 15, 15, 64)        18496     \n",
            "_________________________________________________________________\n",
            "conv2d_9 (Conv2D)            (None, 13, 13, 64)        36928     \n",
            "_________________________________________________________________\n",
            "max_pooling2d_4 (MaxPooling2 (None, 6, 6, 64)          0         \n",
            "_________________________________________________________________\n",
            "dropout_5 (Dropout)          (None, 6, 6, 64)          0         \n",
            "_________________________________________________________________\n",
            "conv2d_10 (Conv2D)           (None, 6, 6, 64)          36928     \n",
            "_________________________________________________________________\n",
            "conv2d_11 (Conv2D)           (None, 4, 4, 64)          36928     \n",
            "_________________________________________________________________\n",
            "max_pooling2d_5 (MaxPooling2 (None, 2, 2, 64)          0         \n",
            "_________________________________________________________________\n",
            "dropout_6 (Dropout)          (None, 2, 2, 64)          0         \n",
            "_________________________________________________________________\n",
            "flatten_1 (Flatten)          (None, 256)               0         \n",
            "_________________________________________________________________\n",
            "dense_2 (Dense)              (None, 1024)              263168    \n",
            "_________________________________________________________________\n",
            "dropout_7 (Dropout)          (None, 1024)              0         \n",
            "_________________________________________________________________\n",
            "dense_3 (Dense)              (None, 43)                44075     \n",
            "=================================================================\n",
            "Total params: 446,667\n",
            "Trainable params: 446,667\n",
            "Non-trainable params: 0\n",
            "_________________________________________________________________\n",
            "Epoch 1/25\n",
            "272/272 [==============================] - 5s 19ms/step - loss: 2.7355 - accuracy: 0.2642 - val_loss: 0.9803 - val_accuracy: 0.7088\n",
            "Epoch 2/25\n",
            "272/272 [==============================] - 5s 17ms/step - loss: 0.8763 - accuracy: 0.7281 - val_loss: 0.2506 - val_accuracy: 0.9181\n",
            "Epoch 3/25\n",
            "272/272 [==============================] - 5s 17ms/step - loss: 0.4141 - accuracy: 0.8689 - val_loss: 0.1198 - val_accuracy: 0.9677\n",
            "Epoch 4/25\n",
            "272/272 [==============================] - 4s 17ms/step - loss: 0.2665 - accuracy: 0.9178 - val_loss: 0.0756 - val_accuracy: 0.9788\n",
            "Epoch 5/25\n",
            "272/272 [==============================] - 5s 17ms/step - loss: 0.2058 - accuracy: 0.9380 - val_loss: 0.0486 - val_accuracy: 0.9860\n",
            "Epoch 6/25\n",
            "272/272 [==============================] - 5s 17ms/step - loss: 0.1660 - accuracy: 0.9491 - val_loss: 0.0440 - val_accuracy: 0.9860\n",
            "Epoch 7/25\n",
            "272/272 [==============================] - 5s 17ms/step - loss: 0.1425 - accuracy: 0.9576 - val_loss: 0.0334 - val_accuracy: 0.9904\n",
            "Epoch 8/25\n",
            "272/272 [==============================] - 5s 17ms/step - loss: 0.1239 - accuracy: 0.9633 - val_loss: 0.0275 - val_accuracy: 0.9933\n",
            "Epoch 9/25\n",
            "272/272 [==============================] - 5s 17ms/step - loss: 0.1149 - accuracy: 0.9661 - val_loss: 0.0197 - val_accuracy: 0.9943\n",
            "Epoch 10/25\n",
            "272/272 [==============================] - 5s 17ms/step - loss: 0.1007 - accuracy: 0.9700 - val_loss: 0.0238 - val_accuracy: 0.9927\n",
            "Epoch 11/25\n",
            "272/272 [==============================] - 5s 17ms/step - loss: 0.1031 - accuracy: 0.9697 - val_loss: 0.0196 - val_accuracy: 0.9947\n",
            "Epoch 12/25\n",
            "272/272 [==============================] - 5s 17ms/step - loss: 0.0901 - accuracy: 0.9735 - val_loss: 0.0109 - val_accuracy: 0.9970\n",
            "Epoch 13/25\n",
            "272/272 [==============================] - 5s 17ms/step - loss: 0.0933 - accuracy: 0.9732 - val_loss: 0.0125 - val_accuracy: 0.9963\n",
            "Epoch 14/25\n",
            "272/272 [==============================] - 5s 17ms/step - loss: 0.0910 - accuracy: 0.9737 - val_loss: 0.0123 - val_accuracy: 0.9963\n",
            "Epoch 15/25\n",
            "272/272 [==============================] - 5s 17ms/step - loss: 0.0755 - accuracy: 0.9782 - val_loss: 0.0088 - val_accuracy: 0.9977\n",
            "Epoch 16/25\n",
            "272/272 [==============================] - 5s 17ms/step - loss: 0.0749 - accuracy: 0.9779 - val_loss: 0.0073 - val_accuracy: 0.9981\n",
            "Epoch 17/25\n",
            "272/272 [==============================] - 5s 17ms/step - loss: 0.0849 - accuracy: 0.9750 - val_loss: 0.0121 - val_accuracy: 0.9974\n",
            "Epoch 18/25\n",
            "272/272 [==============================] - 5s 17ms/step - loss: 0.0806 - accuracy: 0.9776 - val_loss: 0.0101 - val_accuracy: 0.9971\n",
            "Epoch 19/25\n",
            "272/272 [==============================] - 5s 17ms/step - loss: 0.0887 - accuracy: 0.9764 - val_loss: 0.0127 - val_accuracy: 0.9965\n",
            "Epoch 20/25\n",
            "272/272 [==============================] - 5s 17ms/step - loss: 0.0746 - accuracy: 0.9795 - val_loss: 0.0052 - val_accuracy: 0.9985\n",
            "Epoch 21/25\n",
            "272/272 [==============================] - 5s 17ms/step - loss: 0.0751 - accuracy: 0.9803 - val_loss: 0.0066 - val_accuracy: 0.9982\n",
            "Epoch 22/25\n",
            "272/272 [==============================] - 5s 17ms/step - loss: 0.0614 - accuracy: 0.9827 - val_loss: 0.0049 - val_accuracy: 0.9986\n",
            "Epoch 23/25\n",
            "272/272 [==============================] - 5s 17ms/step - loss: 0.0665 - accuracy: 0.9816 - val_loss: 0.0077 - val_accuracy: 0.9978\n",
            "Epoch 24/25\n",
            "272/272 [==============================] - 5s 17ms/step - loss: 0.0796 - accuracy: 0.9772 - val_loss: 0.0051 - val_accuracy: 0.9986\n",
            "Epoch 25/25\n",
            "272/272 [==============================] - 5s 17ms/step - loss: 0.0843 - accuracy: 0.9771 - val_loss: 0.0079 - val_accuracy: 0.9979\n"
          ],
          "name": "stdout"
        },
        {
          "output_type": "execute_result",
          "data": {
            "text/plain": [
              "0.9741496598639455"
            ]
          },
          "metadata": {
            "tags": []
          },
          "execution_count": 12
        }
      ]
    },
    {
      "cell_type": "code",
      "metadata": {
        "id": "GdhpHxa3Wky5",
        "colab_type": "code",
        "colab": {
          "base_uri": "https://localhost:8080/",
          "height": 1000
        },
        "outputId": "f15b175a-00d4-4667-ce38-c77680770b4b"
      },
      "source": [
        "model = get_cnn_v6(input_shape, num_classes)\n",
        "model_trained = train_model(model, X_train, y_train, params_fit)\n",
        "predict(model_trained, X_test, y_test)"
      ],
      "execution_count": 14,
      "outputs": [
        {
          "output_type": "stream",
          "text": [
            "Model: \"sequential_2\"\n",
            "_________________________________________________________________\n",
            "Layer (type)                 Output Shape              Param #   \n",
            "=================================================================\n",
            "conv2d_12 (Conv2D)           (None, 30, 30, 32)        896       \n",
            "_________________________________________________________________\n",
            "conv2d_13 (Conv2D)           (None, 30, 30, 32)        9248      \n",
            "_________________________________________________________________\n",
            "max_pooling2d_6 (MaxPooling2 (None, 15, 15, 32)        0         \n",
            "_________________________________________________________________\n",
            "dropout_8 (Dropout)          (None, 15, 15, 32)        0         \n",
            "_________________________________________________________________\n",
            "conv2d_14 (Conv2D)           (None, 15, 15, 64)        18496     \n",
            "_________________________________________________________________\n",
            "conv2d_15 (Conv2D)           (None, 13, 13, 64)        36928     \n",
            "_________________________________________________________________\n",
            "max_pooling2d_7 (MaxPooling2 (None, 6, 6, 64)          0         \n",
            "_________________________________________________________________\n",
            "dropout_9 (Dropout)          (None, 6, 6, 64)          0         \n",
            "_________________________________________________________________\n",
            "conv2d_16 (Conv2D)           (None, 6, 6, 64)          36928     \n",
            "_________________________________________________________________\n",
            "conv2d_17 (Conv2D)           (None, 4, 4, 64)          36928     \n",
            "_________________________________________________________________\n",
            "max_pooling2d_8 (MaxPooling2 (None, 2, 2, 64)          0         \n",
            "_________________________________________________________________\n",
            "dropout_10 (Dropout)         (None, 2, 2, 64)          0         \n",
            "_________________________________________________________________\n",
            "flatten_2 (Flatten)          (None, 256)               0         \n",
            "_________________________________________________________________\n",
            "dense_4 (Dense)              (None, 1024)              263168    \n",
            "_________________________________________________________________\n",
            "dropout_11 (Dropout)         (None, 1024)              0         \n",
            "_________________________________________________________________\n",
            "dense_5 (Dense)              (None, 1024)              1049600   \n",
            "_________________________________________________________________\n",
            "dropout_12 (Dropout)         (None, 1024)              0         \n",
            "_________________________________________________________________\n",
            "dense_6 (Dense)              (None, 43)                44075     \n",
            "=================================================================\n",
            "Total params: 1,496,267\n",
            "Trainable params: 1,496,267\n",
            "Non-trainable params: 0\n",
            "_________________________________________________________________\n",
            "Epoch 1/25\n",
            "272/272 [==============================] - 5s 19ms/step - loss: 2.5309 - accuracy: 0.2962 - val_loss: 1.1434 - val_accuracy: 0.6098\n",
            "Epoch 2/25\n",
            "272/272 [==============================] - 5s 18ms/step - loss: 0.8489 - accuracy: 0.7217 - val_loss: 0.2518 - val_accuracy: 0.9192\n",
            "Epoch 3/25\n",
            "272/272 [==============================] - 5s 18ms/step - loss: 0.3647 - accuracy: 0.8858 - val_loss: 0.0901 - val_accuracy: 0.9738\n",
            "Epoch 4/25\n",
            "272/272 [==============================] - 5s 18ms/step - loss: 0.2294 - accuracy: 0.9298 - val_loss: 0.0377 - val_accuracy: 0.9901\n",
            "Epoch 5/25\n",
            "272/272 [==============================] - 5s 18ms/step - loss: 0.1699 - accuracy: 0.9496 - val_loss: 0.0474 - val_accuracy: 0.9854\n",
            "Epoch 6/25\n",
            "272/272 [==============================] - 5s 18ms/step - loss: 0.1402 - accuracy: 0.9594 - val_loss: 0.0399 - val_accuracy: 0.9884\n",
            "Epoch 7/25\n",
            "272/272 [==============================] - 5s 18ms/step - loss: 0.1251 - accuracy: 0.9641 - val_loss: 0.0247 - val_accuracy: 0.9933\n",
            "Epoch 8/25\n",
            "272/272 [==============================] - 5s 18ms/step - loss: 0.1084 - accuracy: 0.9688 - val_loss: 0.0141 - val_accuracy: 0.9961\n",
            "Epoch 9/25\n",
            "272/272 [==============================] - 5s 18ms/step - loss: 0.1111 - accuracy: 0.9681 - val_loss: 0.0138 - val_accuracy: 0.9967\n",
            "Epoch 10/25\n",
            "272/272 [==============================] - 5s 18ms/step - loss: 0.1072 - accuracy: 0.9706 - val_loss: 0.0146 - val_accuracy: 0.9962\n",
            "Epoch 11/25\n",
            "272/272 [==============================] - 5s 18ms/step - loss: 0.0926 - accuracy: 0.9753 - val_loss: 0.0174 - val_accuracy: 0.9950\n",
            "Epoch 12/25\n",
            "272/272 [==============================] - 5s 18ms/step - loss: 0.1071 - accuracy: 0.9708 - val_loss: 0.0129 - val_accuracy: 0.9961\n",
            "Epoch 13/25\n",
            "272/272 [==============================] - 5s 18ms/step - loss: 0.0985 - accuracy: 0.9724 - val_loss: 0.0198 - val_accuracy: 0.9948\n",
            "Epoch 14/25\n",
            "272/272 [==============================] - 5s 18ms/step - loss: 0.0960 - accuracy: 0.9745 - val_loss: 0.0204 - val_accuracy: 0.9953\n",
            "Epoch 15/25\n",
            "272/272 [==============================] - 5s 18ms/step - loss: 0.1079 - accuracy: 0.9736 - val_loss: 0.0107 - val_accuracy: 0.9974\n",
            "Epoch 16/25\n",
            "272/272 [==============================] - 5s 18ms/step - loss: 0.0897 - accuracy: 0.9762 - val_loss: 0.0105 - val_accuracy: 0.9976\n",
            "Epoch 17/25\n",
            "272/272 [==============================] - 5s 18ms/step - loss: 0.0796 - accuracy: 0.9792 - val_loss: 0.0083 - val_accuracy: 0.9978\n",
            "Epoch 18/25\n",
            "272/272 [==============================] - 5s 17ms/step - loss: 0.0745 - accuracy: 0.9806 - val_loss: 0.0171 - val_accuracy: 0.9953\n",
            "Epoch 19/25\n",
            "272/272 [==============================] - 5s 17ms/step - loss: 0.0782 - accuracy: 0.9798 - val_loss: 0.0084 - val_accuracy: 0.9979\n",
            "Epoch 20/25\n",
            "272/272 [==============================] - 5s 18ms/step - loss: 0.0645 - accuracy: 0.9827 - val_loss: 0.0080 - val_accuracy: 0.9976\n",
            "Epoch 21/25\n",
            "272/272 [==============================] - 5s 18ms/step - loss: 0.0926 - accuracy: 0.9765 - val_loss: 0.0157 - val_accuracy: 0.9963\n",
            "Epoch 22/25\n",
            "272/272 [==============================] - 5s 18ms/step - loss: 0.0924 - accuracy: 0.9782 - val_loss: 0.0115 - val_accuracy: 0.9970\n",
            "Epoch 23/25\n",
            "272/272 [==============================] - 5s 18ms/step - loss: 0.0854 - accuracy: 0.9803 - val_loss: 0.0132 - val_accuracy: 0.9962\n",
            "Epoch 24/25\n",
            "272/272 [==============================] - 5s 18ms/step - loss: 0.0933 - accuracy: 0.9772 - val_loss: 0.0105 - val_accuracy: 0.9974\n",
            "Epoch 25/25\n",
            "272/272 [==============================] - 5s 18ms/step - loss: 0.0900 - accuracy: 0.9787 - val_loss: 0.0096 - val_accuracy: 0.9972\n"
          ],
          "name": "stdout"
        },
        {
          "output_type": "execute_result",
          "data": {
            "text/plain": [
              "0.9816326530612245"
            ]
          },
          "metadata": {
            "tags": []
          },
          "execution_count": 14
        }
      ]
    },
    {
      "cell_type": "code",
      "metadata": {
        "id": "uE9AYT4hgvo8",
        "colab_type": "code",
        "colab": {
          "base_uri": "https://localhost:8080/",
          "height": 1000
        },
        "outputId": "07010d9c-e1fd-4eed-fed9-7408286469fa"
      },
      "source": [
        "space = {\n",
        "    'batch_size': hp.quniform('batch_size', 50, 200, 20)\n",
        "}\n",
        "\n",
        "best = fmin(\n",
        "    func_obj,\n",
        "    space,\n",
        "    tpe.suggest,\n",
        "    1,\n",
        "    Trials()\n",
        ")"
      ],
      "execution_count": 19,
      "outputs": [
        {
          "output_type": "stream",
          "text": [
            "Model: \"sequential_3\"\n",
            "_________________________________________________________________\n",
            "Layer (type)                 Output Shape              Param #   \n",
            "=================================================================\n",
            "conv2d_18 (Conv2D)           (None, 30, 30, 32)        896       \n",
            "_________________________________________________________________\n",
            "conv2d_19 (Conv2D)           (None, 30, 30, 32)        9248      \n",
            "_________________________________________________________________\n",
            "max_pooling2d_9 (MaxPooling2 (None, 15, 15, 32)        0         \n",
            "_________________________________________________________________\n",
            "dropout_13 (Dropout)         (None, 15, 15, 32)        0         \n",
            "_________________________________________________________________\n",
            "conv2d_20 (Conv2D)           (None, 15, 15, 64)        18496     \n",
            "_________________________________________________________________\n",
            "conv2d_21 (Conv2D)           (None, 13, 13, 64)        36928     \n",
            "_________________________________________________________________\n",
            "max_pooling2d_10 (MaxPooling (None, 6, 6, 64)          0         \n",
            "_________________________________________________________________\n",
            "dropout_14 (Dropout)         (None, 6, 6, 64)          0         \n",
            "_________________________________________________________________\n",
            "conv2d_22 (Conv2D)           (None, 6, 6, 64)          36928     \n",
            "_________________________________________________________________\n",
            "conv2d_23 (Conv2D)           (None, 4, 4, 64)          36928     \n",
            "_________________________________________________________________\n",
            "max_pooling2d_11 (MaxPooling (None, 2, 2, 64)          0         \n",
            "_________________________________________________________________\n",
            "dropout_15 (Dropout)         (None, 2, 2, 64)          0         \n",
            "_________________________________________________________________\n",
            "flatten_3 (Flatten)          (None, 256)               0         \n",
            "_________________________________________________________________\n",
            "dense_7 (Dense)              (None, 1024)              263168    \n",
            "_________________________________________________________________\n",
            "dropout_16 (Dropout)         (None, 1024)              0         \n",
            "_________________________________________________________________\n",
            "dense_8 (Dense)              (None, 1024)              1049600   \n",
            "_________________________________________________________________\n",
            "dropout_17 (Dropout)         (None, 1024)              0         \n",
            "_________________________________________________________________\n",
            "dense_9 (Dense)              (None, 43)                44075     \n",
            "=================================================================\n",
            "Total params: 1,496,267\n",
            "Trainable params: 1,496,267\n",
            "Non-trainable params: 0\n",
            "_________________________________________________________________\n",
            "  1/138 [..............................]\n",
            " - ETA: 0s - loss: 0.4387 - accuracy: 0.8438\n",
            "\b\b\b\b\b\b\b\b\b\b\b\b\b\b\b\b\b\b\b\b\b\b\b\b\b\b\b\b\b\b\b\b\b\b\b\b\b\b\b\b\b\b\b\b\b\b\b\b\b\b\b\b\b\b\b\b\b\b\b\b\b\b\b\b\b\b\b\b\b\b\b\b\b\b\b\b\b\b\b\b\b\b\b\b\n",
            " 13/138 [=>............................]\n",
            " - ETA: 0s - loss: 0.0814 - accuracy: 0.9712\n",
            "\b\b\b\b\b\b\b\b\b\b\b\b\b\b\b\b\b\b\b\b\b\b\b\b\b\b\b\b\b\b\b\b\b\b\b\b\b\b\b\b\b\b\b\b\b\b\b\b\b\b\b\b\b\b\b\b\b\b\b\b\b\b\b\b\b\b\b\b\b\b\b\b\b\b\b\b\b\b\b\b\b\b\b\b\n",
            " 25/138 [====>.........................]\n",
            " - ETA: 0s - loss: 0.1730 - accuracy: 0.9538\n",
            "\b\b\b\b\b\b\b\b\b\b\b\b\b\b\b\b\b\b\b\b\b\b\b\b\b\b\b\b\b\b\b\b\b\b\b\b\b\b\b\b\b\b\b\b\b\b\b\b\b\b\b\b\b\b\b\b\b\b\b\b\b\b\b\b\b\b\b\b\b\b\b\b\b\b\b\b\b\b\b\b\b\b\b\b\n",
            " 34/138 [======>.......................]\n",
            " - ETA: 0s - loss: 0.1283 - accuracy: 0.9660\n",
            "\b\b\b\b\b\b\b\b\b\b\b\b\b\b\b\b\b\b\b\b\b\b\b\b\b\b\b\b\b\b\b\b\b\b\b\b\b\b\b\b\b\b\b\b\b\b\b\b\b\b\b\b\b\b\b\b\b\b\b\b\b\b\b\b\b\b\b\b\b\b\b\b\b\b\b\b\b\b\b\b\b\b\b\b\n",
            " 46/138 [=========>....................]\n",
            " - ETA: 0s - loss: 0.1186 - accuracy: 0.9688\n",
            "\b\b\b\b\b\b\b\b\b\b\b\b\b\b\b\b\b\b\b\b\b\b\b\b\b\b\b\b\b\b\b\b\b\b\b\b\b\b\b\b\b\b\b\b\b\b\b\b\b\b\b\b\b\b\b\b\b\b\b\b\b\b\b\b\b\b\b\b\b\b\b\b\b\b\b\b\b\b\b\b\b\b\b\b\n",
            " 59/138 [===========>..................]\n",
            " - ETA: 0s - loss: 0.0957 - accuracy: 0.9751\n",
            "\b\b\b\b\b\b\b\b\b\b\b\b\b\b\b\b\b\b\b\b\b\b\b\b\b\b\b\b\b\b\b\b\b\b\b\b\b\b\b\b\b\b\b\b\b\b\b\b\b\b\b\b\b\b\b\b\b\b\b\b\b\b\b\b\b\b\b\b\b\b\b\b\b\b\b\b\b\b\b\b\b\b\b\b\n",
            " 70/138 [==============>...............]\n",
            " - ETA: 0s - loss: 0.0870 - accuracy: 0.9763\n",
            "\b\b\b\b\b\b\b\b\b\b\b\b\b\b\b\b\b\b\b\b\b\b\b\b\b\b\b\b\b\b\b\b\b\b\b\b\b\b\b\b\b\b\b\b\b\b\b\b\b\b\b\b\b\b\b\b\b\b\b\b\b\b\b\b\b\b\b\b\b\b\b\b\b\b\b\b\b\b\b\b\b\b\b\b\n",
            " 81/138 [================>.............]\n",
            " - ETA: 0s - loss: 0.0755 - accuracy: 0.9796\n",
            "\b\b\b\b\b\b\b\b\b\b\b\b\b\b\b\b\b\b\b\b\b\b\b\b\b\b\b\b\b\b\b\b\b\b\b\b\b\b\b\b\b\b\b\b\b\b\b\b\b\b\b\b\b\b\b\b\b\b\b\b\b\b\b\b\b\b\b\b\b\b\b\b\b\b\b\b\b\b\b\b\b\b\b\b\n",
            " 92/138 [===================>..........]\n",
            " - ETA: 0s - loss: 0.0690 - accuracy: 0.9810\n",
            "\b\b\b\b\b\b\b\b\b\b\b\b\b\b\b\b\b\b\b\b\b\b\b\b\b\b\b\b\b\b\b\b\b\b\b\b\b\b\b\b\b\b\b\b\b\b\b\b\b\b\b\b\b\b\b\b\b\b\b\b\b\b\b\b\b\b\b\b\b\b\b\b\b\b\b\b\b\b\b\b\b\b\b\b\n",
            "100/138 [====================>.........]\n",
            " - ETA: 0s - loss: 0.0665 - accuracy: 0.9809\n",
            "\b\b\b\b\b\b\b\b\b\b\b\b\b\b\b\b\b\b\b\b\b\b\b\b\b\b\b\b\b\b\b\b\b\b\b\b\b\b\b\b\b\b\b\b\b\b\b\b\b\b\b\b\b\b\b\b\b\b\b\b\b\b\b\b\b\b\b\b\b\b\b\b\b\b\b\b\b\b\b\b\b\b\b\b\n",
            "111/138 [=======================>......]\n",
            " - ETA: 0s - loss: 0.0906 - accuracy: 0.9772\n",
            "\b\b\b\b\b\b\b\b\b\b\b\b\b\b\b\b\b\b\b\b\b\b\b\b\b\b\b\b\b\b\b\b\b\b\b\b\b\b\b\b\b\b\b\b\b\b\b\b\b\b\b\b\b\b\b\b\b\b\b\b\b\b\b\b\b\b\b\b\b\b\b\b\b\b\b\b\b\b\b\b\b\b\b\b\n",
            "122/138 [=========================>....]\n",
            " - ETA: 0s - loss: 0.0829 - accuracy: 0.9793\n",
            "\b\b\b\b\b\b\b\b\b\b\b\b\b\b\b\b\b\b\b\b\b\b\b\b\b\b\b\b\b\b\b\b\b\b\b\b\b\b\b\b\b\b\b\b\b\b\b\b\b\b\b\b\b\b\b\b\b\b\b\b\b\b\b\b\b\b\b\b\b\b\b\b\b\b\b\b\b\b\b\b\b\b\b\b\n",
            "133/138 [===========================>..]\n",
            " - ETA: 0s - loss: 0.0790 - accuracy: 0.9800\n",
            "\b\b\b\b\b\b\b\b\b\b\b\b\b\b\b\b\b\b\b\b\b\b\b\b\b\b\b\b\b\b\b\b\b\b\b\b\b\b\b\b\b\b\b\b\b\b\b\b\b\b\b\b\b\b\b\b\b\b\b\b\b\b\b\b\b\b\b\b\b\b\b\b\b\b\b\b\b\b\b\b\b\b\b\b\n",
            "138/138 [==============================]\n",
            " - 1s 5ms/step - loss: 0.0847 - accuracy: 0.9785\n",
            "\n",
            "{'batch_size': 180.0}\n",
            "accuracy=0.0846671313047409\n",
            "100%|██████████| 1/1 [00:20<00:00, 20.06s/it, best loss: -0.0846671313047409]\n"
          ],
          "name": "stdout"
        }
      ]
    },
    {
      "cell_type": "code",
      "metadata": {
        "id": "OzNe_uVUiRxS",
        "colab_type": "code",
        "colab": {}
      },
      "source": [
        "def get_model(params):\n",
        "    model = Sequential([\n",
        "        Conv2D(filters=32, kernel_size=(3,3), activation='relu', input_shape=input_shape),\n",
        "        Conv2D(filters=32, kernel_size=(3,3), activation='relu', padding='same'),\n",
        "        MaxPool2D(),\n",
        "        Dropout(params['dropout_cnn_block_one']),\n",
        "\n",
        "        Conv2D(filters=64, kernel_size=(3,3), activation='relu', padding='same'),\n",
        "        Conv2D(filters=64, kernel_size=(3,3), activation='relu'),\n",
        "        MaxPool2D(),\n",
        "        Dropout(params['dropout_cnn_block_two']),\n",
        "\n",
        "        Conv2D(filters=128, kernel_size=(3,3), activation='relu', padding='same'),\n",
        "        Conv2D(filters=128, kernel_size=(3,3), activation='relu'),\n",
        "        MaxPool2D(),\n",
        "        Dropout(params['dropout_cnn_block_three']),\n",
        "\n",
        "        Flatten(),\n",
        "\n",
        "        Dense(1024, activation='relu'),\n",
        "        Dropout(params['dropout_dense_block_one']),\n",
        "\n",
        "        Dense(1024, activation='relu'),\n",
        "        Dropout(params['dropout_dense_block_two']),\n",
        "\n",
        "        Dense(num_classes, activation='softmax'),\n",
        "    ])\n",
        "    # model.summary()\n",
        "    return model"
      ],
      "execution_count": 0,
      "outputs": []
    },
    {
      "cell_type": "code",
      "metadata": {
        "id": "RvhK2MxddZoA",
        "colab_type": "code",
        "colab": {}
      },
      "source": [
        "def func_obj(params):\n",
        "\n",
        "    model = get_model(params)\n",
        "    model.compile(loss='categorical_crossentropy', optimizer='Adam', metrics='accuracy')\n",
        "\n",
        "    model.fit(\n",
        "        X_train, \n",
        "        y_train,\n",
        "        batch_size = 128, #int(params.get('batch_size', 128)),\n",
        "        epochs = 5,\n",
        "        verbose = 0,\n",
        "        )\n",
        "    \n",
        "    score = model.evaluate(X_test, y_test, verbose=0)\n",
        "    accuracy = score[1]\n",
        "    print(params, 'accuracy={}'.format(accuracy))\n",
        "\n",
        "    return {'loss': -accuracy, 'status': STATUS_OK, 'model': model}"
      ],
      "execution_count": 0,
      "outputs": []
    },
    {
      "cell_type": "code",
      "metadata": {
        "id": "jZ1wuICdkJ5e",
        "colab_type": "code",
        "colab": {
          "base_uri": "https://localhost:8080/",
          "height": 1000
        },
        "outputId": "45a4a3ca-044e-4ac5-9ac6-b3829a6988c5"
      },
      "source": [
        "space = {\n",
        "    'batch_size': hp.quniform('batch_size', 100, 200, 10),\n",
        "    'dropout_cnn_block_one': hp.uniform('dropout_cnn_block_one', 0.3, 0.5),\n",
        "    'dropout_cnn_block_two': hp.uniform('dropout_cnn_block_two', 0.3, 0.5),\n",
        "    'dropout_cnn_block_three': hp.uniform('dropout_cnn_block_three', 0.3, 0.5),\n",
        "    'dropout_dense_block_one': hp.uniform('dropout_dense_block_one', 0.3, 0.7),\n",
        "    'dropout_dense_block_two': hp.uniform('dropout_dense_block_two', 0.3, 0.7),\n",
        "}\n",
        "\n",
        "best = fmin(\n",
        "    func_obj,\n",
        "    space,\n",
        "    tpe.suggest,\n",
        "    30,\n",
        "    Trials()\n",
        ")"
      ],
      "execution_count": 27,
      "outputs": [
        {
          "output_type": "stream",
          "text": [
            "{'batch_size': 160.0, 'dropout_cnn_block_one': 0.3009695203598028, 'dropout_cnn_block_three': 0.4649924345003561, 'dropout_cnn_block_two': 0.3729968123915366, 'dropout_dense_block_one': 0.6458057864184462, 'dropout_dense_block_two': 0.5503427477627053}\n",
            "accuracy=0.9664399027824402\n",
            "{'batch_size': 150.0, 'dropout_cnn_block_one': 0.352616534372221, 'dropout_cnn_block_three': 0.31159917446757457, 'dropout_cnn_block_two': 0.468076054790067, 'dropout_dense_block_one': 0.5383150277435664, 'dropout_dense_block_two': 0.4803794434119354}\n",
            "accuracy=0.9639455676078796\n",
            "{'batch_size': 120.0, 'dropout_cnn_block_one': 0.41035826538999837, 'dropout_cnn_block_three': 0.4006586387189496, 'dropout_cnn_block_two': 0.4425457623558673, 'dropout_dense_block_one': 0.38691849210534296, 'dropout_dense_block_two': 0.34436409192988104}\n",
            "accuracy=0.9625850319862366\n",
            "{'batch_size': 110.0, 'dropout_cnn_block_one': 0.3313280756653813, 'dropout_cnn_block_three': 0.4357625984611852, 'dropout_cnn_block_two': 0.4277824002823867, 'dropout_dense_block_one': 0.36739819479354163, 'dropout_dense_block_two': 0.3479766456807326}\n",
            "accuracy=0.9575963616371155\n",
            "{'batch_size': 170.0, 'dropout_cnn_block_one': 0.39641641847950887, 'dropout_cnn_block_three': 0.45666225975674096, 'dropout_cnn_block_two': 0.4631184074946134, 'dropout_dense_block_one': 0.46900849253175403, 'dropout_dense_block_two': 0.535362862376176}\n",
            "accuracy=0.9482993483543396\n",
            "{'batch_size': 140.0, 'dropout_cnn_block_one': 0.30982790137489186, 'dropout_cnn_block_three': 0.4847616652995955, 'dropout_cnn_block_two': 0.46722759627441834, 'dropout_dense_block_one': 0.3779936255846188, 'dropout_dense_block_two': 0.41249946544566013}\n",
            "accuracy=0.9603174328804016\n",
            "{'batch_size': 180.0, 'dropout_cnn_block_one': 0.41674817354173554, 'dropout_cnn_block_three': 0.4970526449484042, 'dropout_cnn_block_two': 0.310953165564182, 'dropout_dense_block_one': 0.5355775474402091, 'dropout_dense_block_two': 0.5329057502205491}\n",
            "accuracy=0.9083900451660156\n",
            "{'batch_size': 130.0, 'dropout_cnn_block_one': 0.496455135674874, 'dropout_cnn_block_three': 0.4592570701648873, 'dropout_cnn_block_two': 0.47204105357688797, 'dropout_dense_block_one': 0.36009485862356766, 'dropout_dense_block_two': 0.5043672013679983}\n",
            "accuracy=0.7947846055030823\n",
            "{'batch_size': 160.0, 'dropout_cnn_block_one': 0.450372959686011, 'dropout_cnn_block_three': 0.48641113936827746, 'dropout_cnn_block_two': 0.3635074371062629, 'dropout_dense_block_one': 0.6261333550604258, 'dropout_dense_block_two': 0.38848004692546734}\n",
            "accuracy=0.8709750771522522\n",
            "{'batch_size': 150.0, 'dropout_cnn_block_one': 0.49925876543873315, 'dropout_cnn_block_three': 0.4598303351469918, 'dropout_cnn_block_two': 0.39573233157413135, 'dropout_dense_block_one': 0.6118848645731616, 'dropout_dense_block_two': 0.4600503628175286}\n",
            "accuracy=0.8775510191917419\n",
            "{'batch_size': 130.0, 'dropout_cnn_block_one': 0.35944244755612714, 'dropout_cnn_block_three': 0.4211717382894812, 'dropout_cnn_block_two': 0.4087007654757138, 'dropout_dense_block_one': 0.4094385290444391, 'dropout_dense_block_two': 0.4332735639196148}\n",
            "accuracy=0.9360544085502625\n",
            "{'batch_size': 140.0, 'dropout_cnn_block_one': 0.3733827407502345, 'dropout_cnn_block_three': 0.41680956270591885, 'dropout_cnn_block_two': 0.4949205406615943, 'dropout_dense_block_one': 0.32970283132412054, 'dropout_dense_block_two': 0.44645700525994614}\n",
            "accuracy=0.942176878452301\n",
            "{'batch_size': 160.0, 'dropout_cnn_block_one': 0.45166538568959014, 'dropout_cnn_block_three': 0.49278587275079133, 'dropout_cnn_block_two': 0.4439432649994409, 'dropout_dense_block_one': 0.468825199974855, 'dropout_dense_block_two': 0.36638360808890286}\n",
            "accuracy=0.9392290115356445\n",
            "{'batch_size': 100.0, 'dropout_cnn_block_one': 0.4039156802287254, 'dropout_cnn_block_three': 0.4025319390425045, 'dropout_cnn_block_two': 0.4482652448086245, 'dropout_dense_block_one': 0.39539264032737287, 'dropout_dense_block_two': 0.5879202195040933}\n",
            "accuracy=0.9299319982528687\n",
            "{'batch_size': 180.0, 'dropout_cnn_block_one': 0.49977314111968846, 'dropout_cnn_block_three': 0.4868563744231621, 'dropout_cnn_block_two': 0.47916148214268395, 'dropout_dense_block_one': 0.3814035614790474, 'dropout_dense_block_two': 0.41984132735884705}\n",
            "accuracy=0.8519274592399597\n",
            "{'batch_size': 190.0, 'dropout_cnn_block_one': 0.3691793517987615, 'dropout_cnn_block_three': 0.41266460862424026, 'dropout_cnn_block_two': 0.4807364553432016, 'dropout_dense_block_one': 0.49915784310243777, 'dropout_dense_block_two': 0.4954982530254658}\n",
            "accuracy=0.9113378524780273\n",
            "{'batch_size': 180.0, 'dropout_cnn_block_one': 0.3380568455852211, 'dropout_cnn_block_three': 0.38945559502127614, 'dropout_cnn_block_two': 0.4775815992550472, 'dropout_dense_block_one': 0.4971684084375342, 'dropout_dense_block_two': 0.4177617694621963}\n",
            "accuracy=0.9113378524780273\n",
            "{'batch_size': 110.0, 'dropout_cnn_block_one': 0.36322646529472546, 'dropout_cnn_block_three': 0.46151807806933665, 'dropout_cnn_block_two': 0.3911722782952332, 'dropout_dense_block_one': 0.31084767225571736, 'dropout_dense_block_two': 0.44620379829507606}\n",
            "accuracy=0.9521542191505432\n",
            "{'batch_size': 150.0, 'dropout_cnn_block_one': 0.3776000839276463, 'dropout_cnn_block_three': 0.485168149844418, 'dropout_cnn_block_two': 0.4377631922126585, 'dropout_dense_block_one': 0.6311940010286878, 'dropout_dense_block_two': 0.5082409856916784}\n",
            "accuracy=0.8814058899879456\n",
            "{'batch_size': 130.0, 'dropout_cnn_block_one': 0.43493048031657666, 'dropout_cnn_block_three': 0.33723185340664685, 'dropout_cnn_block_two': 0.32549553246638613, 'dropout_dense_block_one': 0.3913225782628298, 'dropout_dense_block_two': 0.469675850518792}\n",
            "accuracy=0.9233559966087341\n",
            "{'batch_size': 200.0, 'dropout_cnn_block_one': 0.3081766803121435, 'dropout_cnn_block_three': 0.33369855179000346, 'dropout_cnn_block_two': 0.35733541120018575, 'dropout_dense_block_one': 0.6745472703740159, 'dropout_dense_block_two': 0.6847391910244081}\n",
            "accuracy=0.8818594217300415\n",
            "{'batch_size': 160.0, 'dropout_cnn_block_one': 0.3247508205342353, 'dropout_cnn_block_three': 0.3019014872035337, 'dropout_cnn_block_two': 0.3719869299888137, 'dropout_dense_block_one': 0.5681346211871847, 'dropout_dense_block_two': 0.6056703641606465}\n",
            "accuracy=0.9482993483543396\n",
            "{'batch_size': 170.0, 'dropout_cnn_block_one': 0.34654223560751296, 'dropout_cnn_block_three': 0.3560735373309883, 'dropout_cnn_block_two': 0.34011036324509114, 'dropout_dense_block_one': 0.677255311124655, 'dropout_dense_block_two': 0.5857149369083665}\n",
            "accuracy=0.9453514814376831\n",
            "{'batch_size': 140.0, 'dropout_cnn_block_one': 0.30391019446291956, 'dropout_cnn_block_three': 0.37416141196709496, 'dropout_cnn_block_two': 0.38624807757479546, 'dropout_dense_block_one': 0.5768975808667105, 'dropout_dense_block_two': 0.6927947639145673}\n",
            "accuracy=0.9514739513397217\n",
            "{'batch_size': 170.0, 'dropout_cnn_block_one': 0.3166813311517121, 'dropout_cnn_block_three': 0.30375677929227285, 'dropout_cnn_block_two': 0.41739917561809936, 'dropout_dense_block_one': 0.5442512206173277, 'dropout_dense_block_two': 0.5648371940724857}\n",
            "accuracy=0.958276629447937\n",
            "{'batch_size': 150.0, 'dropout_cnn_block_one': 0.34828590454493236, 'dropout_cnn_block_three': 0.31992456984968687, 'dropout_cnn_block_two': 0.3417495523116581, 'dropout_dense_block_one': 0.6561115995214362, 'dropout_dense_block_two': 0.6480706522284986}\n",
            "accuracy=0.9006802439689636\n",
            "{'batch_size': 200.0, 'dropout_cnn_block_one': 0.3822367584644146, 'dropout_cnn_block_three': 0.4387779867960653, 'dropout_cnn_block_two': 0.37733019213349894, 'dropout_dense_block_one': 0.591548631438304, 'dropout_dense_block_two': 0.6370983391845069}\n",
            "accuracy=0.8882086277008057\n",
            "{'batch_size': 160.0, 'dropout_cnn_block_one': 0.3007353733489645, 'dropout_cnn_block_three': 0.3760274423500055, 'dropout_cnn_block_two': 0.49713769973402583, 'dropout_dense_block_one': 0.6994524173497592, 'dropout_dense_block_two': 0.5509898688448132}\n",
            "accuracy=0.8993197083473206\n",
            "{'batch_size': 190.0, 'dropout_cnn_block_one': 0.3227601648156831, 'dropout_cnn_block_three': 0.3598851363507442, 'dropout_cnn_block_two': 0.40687564189990355, 'dropout_dense_block_one': 0.4300761406369526, 'dropout_dense_block_two': 0.6419782837029754}\n",
            "accuracy=0.9591836929321289\n",
            "{'batch_size': 120.0, 'dropout_cnn_block_one': 0.3911997299926222, 'dropout_cnn_block_three': 0.31747949250599083, 'dropout_cnn_block_two': 0.30560133924783656, 'dropout_dense_block_one': 0.5331122750015478, 'dropout_dense_block_two': 0.32125047029707676}\n",
            "accuracy=0.9696145057678223\n",
            "100%|██████████| 30/30 [07:50<00:00, 15.69s/it, best loss: -0.9696145057678223]\n"
          ],
          "name": "stdout"
        }
      ]
    },
    {
      "cell_type": "code",
      "metadata": {
        "id": "irnsMU-smTYL",
        "colab_type": "code",
        "colab": {}
      },
      "source": [
        ""
      ],
      "execution_count": 0,
      "outputs": []
    }
  ]
}