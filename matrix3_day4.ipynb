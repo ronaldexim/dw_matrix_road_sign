{
  "nbformat": 4,
  "nbformat_minor": 0,
  "metadata": {
    "colab": {
      "name": "matrix3_day4.ipynb",
      "provenance": [],
      "mount_file_id": "14WCdVzqmArZAsONaf7V-9yQS7eZDnxn9",
      "authorship_tag": "ABX9TyNHYjWiqype43pb/PcNMS3o",
      "include_colab_link": true
    },
    "kernelspec": {
      "name": "python3",
      "display_name": "Python 3"
    },
    "accelerator": "GPU"
  },
  "cells": [
    {
      "cell_type": "markdown",
      "metadata": {
        "id": "view-in-github",
        "colab_type": "text"
      },
      "source": [
        "<a href=\"https://colab.research.google.com/github/ronaldexim/dw_matrix_road_sign/blob/master/matrix3_day4.ipynb\" target=\"_parent\"><img src=\"https://colab.research.google.com/assets/colab-badge.svg\" alt=\"Open In Colab\"/></a>"
      ]
    },
    {
      "cell_type": "code",
      "metadata": {
        "id": "pcBQkNaxMXNZ",
        "colab_type": "code",
        "colab": {}
      },
      "source": [
        "import pandas as pd\n",
        "import numpy as np\n",
        "import tensorflow as tf\n",
        "from tensorflow.keras.models import Sequential\n",
        "from tensorflow.keras.layers import Conv2D, MaxPool2D, Dense, Flatten, Dropout\n",
        "from tensorflow.keras.utils import to_categorical\n",
        "import os, datetime\n",
        "import matplotlib.pyplot as plt\n",
        "from skimage import color, exposure\n",
        "from sklearn.metrics import accuracy_score\n",
        "from tqdm import tqdm"
      ],
      "execution_count": 0,
      "outputs": []
    },
    {
      "cell_type": "code",
      "metadata": {
        "id": "NTMfXAliM1kd",
        "colab_type": "code",
        "colab": {
          "base_uri": "https://localhost:8080/",
          "height": 34
        },
        "outputId": "e37872c9-defd-47b3-9318-f4978ed79fd9"
      },
      "source": [
        "cd '/content/drive/My Drive/Colab Notebooks/dw_matrix/matrix_three/dw_matrix_road_sign/data'"
      ],
      "execution_count": 3,
      "outputs": [
        {
          "output_type": "stream",
          "text": [
            "/content/drive/My Drive/Colab Notebooks/dw_matrix/matrix_three/dw_matrix_road_sign/data\n"
          ],
          "name": "stdout"
        }
      ]
    },
    {
      "cell_type": "code",
      "metadata": {
        "id": "lRJvX83VPdOj",
        "colab_type": "code",
        "colab": {}
      },
      "source": [
        "names = pd.read_csv('signnames.csv')\n",
        "labels_dict = names.to_dict()['b']"
      ],
      "execution_count": 0,
      "outputs": []
    },
    {
      "cell_type": "code",
      "metadata": {
        "id": "z5FH0H7AM-tt",
        "colab_type": "code",
        "colab": {}
      },
      "source": [
        "train = pd.read_pickle('train.p')\n",
        "test = pd.read_pickle('test.p')\n",
        "X_train, y_train = train['features'], train['labels']\n",
        "X_test, y_test = test['features'], test['labels']"
      ],
      "execution_count": 0,
      "outputs": []
    },
    {
      "cell_type": "code",
      "metadata": {
        "id": "F-UQD0UlNP0B",
        "colab_type": "code",
        "colab": {
          "base_uri": "https://localhost:8080/",
          "height": 34
        },
        "outputId": "8746c07b-6205-4a52-8fe4-384c272c3892"
      },
      "source": [
        "if y_train.ndim == 1: y_train = to_categorical(y_train)\n",
        "if y_test.ndim == 1: y_test = to_categorical(y_test)\n",
        "y_train.shape, y_test.shape"
      ],
      "execution_count": 5,
      "outputs": [
        {
          "output_type": "execute_result",
          "data": {
            "text/plain": [
              "((34799, 43), (4410, 43))"
            ]
          },
          "metadata": {
            "tags": []
          },
          "execution_count": 5
        }
      ]
    },
    {
      "cell_type": "code",
      "metadata": {
        "id": "O5GF2X3pNUXd",
        "colab_type": "code",
        "colab": {}
      },
      "source": [
        "input_shape = X_train.shape[1:]\n",
        "num_classes = y_train.shape[1]"
      ],
      "execution_count": 0,
      "outputs": []
    },
    {
      "cell_type": "code",
      "metadata": {
        "id": "28tp0M-_NXkh",
        "colab_type": "code",
        "colab": {}
      },
      "source": [
        "def get_cnn_v1(input_shape, num_classes):\n",
        "    model = Sequential([\n",
        "        Conv2D(filters=64, kernel_size=(3,3), activation='relu', input_shape=input_shape),\n",
        "        Flatten(),\n",
        "        Dense(num_classes, activation='softmax'),\n",
        "    ])\n",
        "    return model\n",
        "\n",
        "def get_cnn_v2(input_shape, num_classes):\n",
        "    model = Sequential([\n",
        "        Conv2D(filters=32, kernel_size=(3,3), activation='relu', input_shape=input_shape),\n",
        "        MaxPool2D(),\n",
        "        Dropout(0.5),\n",
        "\n",
        "        Conv2D(filters=64, kernel_size=(3,3), activation='relu'),\n",
        "        MaxPool2D(),\n",
        "        Dropout(0.3),\n",
        "\n",
        "        Flatten(),\n",
        "\n",
        "        Dense(1024, activation='relu'),\n",
        "        Dropout(0.5),   \n",
        "        Dense(num_classes, activation='softmax'),\n",
        "    ])\n",
        "    return model\n",
        "\n",
        "def train_model(model, X_train, y_train, params_fit={}):\n",
        "        model.compile(loss='categorical_crossentropy', optimizer='Adam', metrics='accuracy')\n",
        "\n",
        "        logdir = os.path.join(\"logs\", datetime.datetime.now().strftime(\"%Y%m%d-%H%M%S\"))\n",
        "        tensorboard_callback = tf.keras.callbacks.TensorBoard(logdir, histogram_freq=1)\n",
        "\n",
        "        model.fit(\n",
        "            X_train, \n",
        "            y_train,\n",
        "            batch_size = params_fit.get('batch_size', 128),\n",
        "            epochs = params_fit.get('epochs', 5),\n",
        "            verbose = params_fit.get('verbose', 1),\n",
        "            validation_data = params_fit.get('validation_data', (X_train, y_train)),\n",
        "            callbacks = [tensorboard_callback]\n",
        "            )\n",
        "        return model"
      ],
      "execution_count": 0,
      "outputs": []
    },
    {
      "cell_type": "code",
      "metadata": {
        "id": "iisiGGx1Nck8",
        "colab_type": "code",
        "colab": {
          "base_uri": "https://localhost:8080/",
          "height": 867
        },
        "outputId": "db96b996-cddf-411f-ee5e-90dd5df6303c"
      },
      "source": [
        "params_fit ={\n",
        "    'epochs': 25\n",
        "}\n",
        "\n",
        "model_trained = train_model(get_cnn_v1(input_shape, num_classes), X_train, y_train, params_fit)"
      ],
      "execution_count": 9,
      "outputs": [
        {
          "output_type": "stream",
          "text": [
            "Epoch 1/25\n",
            "272/272 [==============================] - 3s 9ms/step - loss: 37.0506 - accuracy: 0.7372 - val_loss: 0.2123 - val_accuracy: 0.9496\n",
            "Epoch 2/25\n",
            "272/272 [==============================] - 2s 9ms/step - loss: 0.1971 - accuracy: 0.9547 - val_loss: 0.0993 - val_accuracy: 0.9772\n",
            "Epoch 3/25\n",
            "272/272 [==============================] - 2s 9ms/step - loss: 0.1285 - accuracy: 0.9705 - val_loss: 0.0700 - val_accuracy: 0.9828\n",
            "Epoch 4/25\n",
            "272/272 [==============================] - 2s 9ms/step - loss: 0.1132 - accuracy: 0.9745 - val_loss: 0.0703 - val_accuracy: 0.9838\n",
            "Epoch 5/25\n",
            "272/272 [==============================] - 2s 9ms/step - loss: 0.0899 - accuracy: 0.9798 - val_loss: 0.0396 - val_accuracy: 0.9909\n",
            "Epoch 6/25\n",
            "272/272 [==============================] - 2s 9ms/step - loss: 0.0888 - accuracy: 0.9811 - val_loss: 0.0983 - val_accuracy: 0.9777\n",
            "Epoch 7/25\n",
            "272/272 [==============================] - 2s 8ms/step - loss: 0.0833 - accuracy: 0.9808 - val_loss: 0.0573 - val_accuracy: 0.9864\n",
            "Epoch 8/25\n",
            "272/272 [==============================] - 2s 9ms/step - loss: 0.0726 - accuracy: 0.9847 - val_loss: 0.0671 - val_accuracy: 0.9860\n",
            "Epoch 9/25\n",
            "272/272 [==============================] - 2s 9ms/step - loss: 0.0806 - accuracy: 0.9837 - val_loss: 0.1273 - val_accuracy: 0.9732\n",
            "Epoch 10/25\n",
            "272/272 [==============================] - 2s 9ms/step - loss: 0.0735 - accuracy: 0.9847 - val_loss: 0.0530 - val_accuracy: 0.9883\n",
            "Epoch 11/25\n",
            "272/272 [==============================] - 2s 9ms/step - loss: 0.0718 - accuracy: 0.9860 - val_loss: 0.0530 - val_accuracy: 0.9888\n",
            "Epoch 12/25\n",
            "272/272 [==============================] - 2s 9ms/step - loss: 0.0653 - accuracy: 0.9869 - val_loss: 0.0329 - val_accuracy: 0.9931\n",
            "Epoch 13/25\n",
            "272/272 [==============================] - 2s 9ms/step - loss: 0.0725 - accuracy: 0.9870 - val_loss: 0.0601 - val_accuracy: 0.9897\n",
            "Epoch 14/25\n",
            "272/272 [==============================] - 2s 9ms/step - loss: 0.0948 - accuracy: 0.9823 - val_loss: 0.0735 - val_accuracy: 0.9878\n",
            "Epoch 15/25\n",
            "272/272 [==============================] - 2s 9ms/step - loss: 0.0576 - accuracy: 0.9887 - val_loss: 0.0387 - val_accuracy: 0.9912\n",
            "Epoch 16/25\n",
            "272/272 [==============================] - 2s 9ms/step - loss: 0.0569 - accuracy: 0.9893 - val_loss: 0.0406 - val_accuracy: 0.9917\n",
            "Epoch 17/25\n",
            "272/272 [==============================] - 2s 9ms/step - loss: 0.0379 - accuracy: 0.9924 - val_loss: 0.0801 - val_accuracy: 0.9897\n",
            "Epoch 18/25\n",
            "272/272 [==============================] - 2s 9ms/step - loss: 0.0770 - accuracy: 0.9880 - val_loss: 0.0535 - val_accuracy: 0.9890\n",
            "Epoch 19/25\n",
            "272/272 [==============================] - 2s 9ms/step - loss: 0.0684 - accuracy: 0.9876 - val_loss: 0.0316 - val_accuracy: 0.9951\n",
            "Epoch 20/25\n",
            "272/272 [==============================] - 2s 9ms/step - loss: 0.0466 - accuracy: 0.9913 - val_loss: 0.0498 - val_accuracy: 0.9922\n",
            "Epoch 21/25\n",
            "272/272 [==============================] - 2s 9ms/step - loss: 0.0616 - accuracy: 0.9893 - val_loss: 0.0261 - val_accuracy: 0.9956\n",
            "Epoch 22/25\n",
            "272/272 [==============================] - 2s 9ms/step - loss: 0.0594 - accuracy: 0.9907 - val_loss: 0.0395 - val_accuracy: 0.9938\n",
            "Epoch 23/25\n",
            "272/272 [==============================] - 2s 9ms/step - loss: 0.1080 - accuracy: 0.9841 - val_loss: 0.0640 - val_accuracy: 0.9889\n",
            "Epoch 24/25\n",
            "272/272 [==============================] - 2s 9ms/step - loss: 0.0888 - accuracy: 0.9863 - val_loss: 0.0715 - val_accuracy: 0.9903\n",
            "Epoch 25/25\n",
            "272/272 [==============================] - 2s 9ms/step - loss: 0.0416 - accuracy: 0.9939 - val_loss: 0.0196 - val_accuracy: 0.9960\n"
          ],
          "name": "stdout"
        }
      ]
    },
    {
      "cell_type": "code",
      "metadata": {
        "id": "dthWYZONNnUd",
        "colab_type": "code",
        "colab": {
          "base_uri": "https://localhost:8080/",
          "height": 204
        },
        "outputId": "515b1ce4-5823-4d60-e809-f7379bb3b302"
      },
      "source": [
        "y_pred_prob = model_trained.predict(X_test)\n",
        "y_pred_prob[400]"
      ],
      "execution_count": 17,
      "outputs": [
        {
          "output_type": "execute_result",
          "data": {
            "text/plain": [
              "array([1.5061661e-18, 9.9998879e-01, 7.3409547e-31, 0.0000000e+00,\n",
              "       1.1175117e-05, 9.1999237e-25, 0.0000000e+00, 0.0000000e+00,\n",
              "       0.0000000e+00, 2.5063966e-38, 0.0000000e+00, 0.0000000e+00,\n",
              "       0.0000000e+00, 0.0000000e+00, 0.0000000e+00, 0.0000000e+00,\n",
              "       0.0000000e+00, 0.0000000e+00, 0.0000000e+00, 0.0000000e+00,\n",
              "       0.0000000e+00, 0.0000000e+00, 0.0000000e+00, 0.0000000e+00,\n",
              "       0.0000000e+00, 0.0000000e+00, 0.0000000e+00, 0.0000000e+00,\n",
              "       0.0000000e+00, 0.0000000e+00, 0.0000000e+00, 0.0000000e+00,\n",
              "       0.0000000e+00, 0.0000000e+00, 0.0000000e+00, 0.0000000e+00,\n",
              "       0.0000000e+00, 0.0000000e+00, 0.0000000e+00, 0.0000000e+00,\n",
              "       0.0000000e+00, 0.0000000e+00, 0.0000000e+00], dtype=float32)"
            ]
          },
          "metadata": {
            "tags": []
          },
          "execution_count": 17
        }
      ]
    },
    {
      "cell_type": "code",
      "metadata": {
        "id": "FblbFrmLOZlQ",
        "colab_type": "code",
        "colab": {
          "base_uri": "https://localhost:8080/",
          "height": 266
        },
        "outputId": "691b172f-4613-48fc-d167-9096fe82d081"
      },
      "source": [
        "plt.imshow(X_test[400]);"
      ],
      "execution_count": 16,
      "outputs": [
        {
          "output_type": "display_data",
          "data": {
            "image/png": "[encoded data removed]",
            "text/plain": [
              "<Figure size 432x288 with 1 Axes>"
            ]
          },
          "metadata": {
            "tags": []
          }
        }
      ]
    },
    {
      "cell_type": "code",
      "metadata": {
        "id": "9YkX9xb8O7N6",
        "colab_type": "code",
        "colab": {
          "base_uri": "https://localhost:8080/",
          "height": 34
        },
        "outputId": "f2871a20-97ad-4719-ec8d-ca8de5bf141a"
      },
      "source": [
        "labels_dict[np.argmax(y_pred_prob[400])]"
      ],
      "execution_count": 21,
      "outputs": [
        {
          "output_type": "execute_result",
          "data": {
            "text/plain": [
              "'Speed limit (30km/h)'"
            ]
          },
          "metadata": {
            "tags": []
          },
          "execution_count": 21
        }
      ]
    },
    {
      "cell_type": "code",
      "metadata": {
        "id": "xCwbFTX3QLNM",
        "colab_type": "code",
        "colab": {
          "base_uri": "https://localhost:8080/",
          "height": 282
        },
        "outputId": "7fd08467-8a10-4894-b257-776ef7f122f3"
      },
      "source": [
        "plt.bar(range(43), y_pred_prob[400])"
      ],
      "execution_count": 22,
      "outputs": [
        {
          "output_type": "execute_result",
          "data": {
            "text/plain": [
              "<BarContainer object of 43 artists>"
            ]
          },
          "metadata": {
            "tags": []
          },
          "execution_count": 22
        },
        {
          "output_type": "display_data",
          "data": {
            "image/png": "[encoded data removed]",
            "text/plain": [
              "<Figure size 432x288 with 1 Axes>"
            ]
          },
          "metadata": {
            "tags": []
          }
        }
      ]
    },
    {
      "cell_type": "code",
      "metadata": {
        "id": "68Sq8Bt-Q_-d",
        "colab_type": "code",
        "colab": {}
      },
      "source": [
        "def predict(model_trained, X_test, y_test, scoring=accuracy_score):\n",
        "\n",
        "    y_test_norm = np.argmax(y_test, axis=1)\n",
        "\n",
        "    y_pred_prob = model_trained.predict(X_test)\n",
        "    y_pred = np.argmax(y_pred_prob, axis=1)\n",
        "\n",
        "    return scoring(y_test_norm, y_pred)"
      ],
      "execution_count": 0,
      "outputs": []
    },
    {
      "cell_type": "code",
      "metadata": {
        "id": "JANj9BVRT18g",
        "colab_type": "code",
        "colab": {
          "base_uri": "https://localhost:8080/",
          "height": 34
        },
        "outputId": "a88dff61-1677-46e6-e8e9-5cc620d24a59"
      },
      "source": [
        "predict(model_trained, X_test, y_test)"
      ],
      "execution_count": 28,
      "outputs": [
        {
          "output_type": "execute_result",
          "data": {
            "text/plain": [
              "0.8793650793650793"
            ]
          },
          "metadata": {
            "tags": []
          },
          "execution_count": 28
        }
      ]
    },
    {
      "cell_type": "code",
      "metadata": {
        "id": "h71tk-tuUZae",
        "colab_type": "code",
        "colab": {}
      },
      "source": [
        "def train_predict(model):\n",
        "    model_trained = train_model(model, X_train, y_train, params_fit)\n",
        "    return predict(model_trained, X_test, y_test)"
      ],
      "execution_count": 0,
      "outputs": []
    },
    {
      "cell_type": "code",
      "metadata": {
        "id": "BQx1XwzWVjCS",
        "colab_type": "code",
        "colab": {
          "base_uri": "https://localhost:8080/",
          "height": 1000
        },
        "outputId": "2118e81b-9fc7-4d79-ef60-d48316ed61e2"
      },
      "source": [
        "def get_cnn_v3(input_shape, num_classes):\n",
        "    model = Sequential([\n",
        "        Conv2D(filters=32, kernel_size=(3,3), activation='relu', input_shape=input_shape),\n",
        "        MaxPool2D(),\n",
        "        Dropout(0.3),\n",
        "\n",
        "        Conv2D(filters=64, kernel_size=(3,3), activation='relu'),\n",
        "        MaxPool2D(),\n",
        "        Dropout(0.3),\n",
        "\n",
        "        Flatten(),\n",
        "\n",
        "        Dense(1024, activation='relu'),\n",
        "        Dropout(0.3),   \n",
        "        Dense(num_classes, activation='softmax'),\n",
        "    ])\n",
        "    model.summary()\n",
        "    return model\n",
        "train_predict(get_cnn_v3(input_shape, num_classes))"
      ],
      "execution_count": 33,
      "outputs": [
        {
          "output_type": "stream",
          "text": [
            "Model: \"sequential_2\"\n",
            "_________________________________________________________________\n",
            "Layer (type)                 Output Shape              Param #   \n",
            "=================================================================\n",
            "conv2d_3 (Conv2D)            (None, 30, 30, 32)        896       \n",
            "_________________________________________________________________\n",
            "max_pooling2d_2 (MaxPooling2 (None, 15, 15, 32)        0         \n",
            "_________________________________________________________________\n",
            "dropout_3 (Dropout)          (None, 15, 15, 32)        0         \n",
            "_________________________________________________________________\n",
            "conv2d_4 (Conv2D)            (None, 13, 13, 64)        18496     \n",
            "_________________________________________________________________\n",
            "max_pooling2d_3 (MaxPooling2 (None, 6, 6, 64)          0         \n",
            "_________________________________________________________________\n",
            "dropout_4 (Dropout)          (None, 6, 6, 64)          0         \n",
            "_________________________________________________________________\n",
            "flatten_2 (Flatten)          (None, 2304)              0         \n",
            "_________________________________________________________________\n",
            "dense_3 (Dense)              (None, 1024)              2360320   \n",
            "_________________________________________________________________\n",
            "dropout_5 (Dropout)          (None, 1024)              0         \n",
            "_________________________________________________________________\n",
            "dense_4 (Dense)              (None, 43)                44075     \n",
            "=================================================================\n",
            "Total params: 2,423,787\n",
            "Trainable params: 2,423,787\n",
            "Non-trainable params: 0\n",
            "_________________________________________________________________\n",
            "Epoch 1/25\n",
            "272/272 [==============================] - 3s 10ms/step - loss: 5.7087 - accuracy: 0.2361 - val_loss: 1.4488 - val_accuracy: 0.6134\n",
            "Epoch 2/25\n",
            "272/272 [==============================] - 2s 9ms/step - loss: 1.3920 - accuracy: 0.5893 - val_loss: 0.5173 - val_accuracy: 0.8651\n",
            "Epoch 3/25\n",
            "272/272 [==============================] - 2s 9ms/step - loss: 0.7579 - accuracy: 0.7684 - val_loss: 0.2934 - val_accuracy: 0.9371\n",
            "Epoch 4/25\n",
            "272/272 [==============================] - 2s 9ms/step - loss: 0.5113 - accuracy: 0.8437 - val_loss: 0.1451 - val_accuracy: 0.9702\n",
            "Epoch 5/25\n",
            "272/272 [==============================] - 2s 9ms/step - loss: 0.3823 - accuracy: 0.8833 - val_loss: 0.1160 - val_accuracy: 0.9759\n",
            "Epoch 6/25\n",
            "272/272 [==============================] - 2s 9ms/step - loss: 0.3071 - accuracy: 0.9081 - val_loss: 0.0941 - val_accuracy: 0.9796\n",
            "Epoch 7/25\n",
            "272/272 [==============================] - 2s 9ms/step - loss: 0.2491 - accuracy: 0.9257 - val_loss: 0.0459 - val_accuracy: 0.9913\n",
            "Epoch 8/25\n",
            "272/272 [==============================] - 2s 9ms/step - loss: 0.2070 - accuracy: 0.9391 - val_loss: 0.0427 - val_accuracy: 0.9929\n",
            "Epoch 9/25\n",
            "272/272 [==============================] - 2s 9ms/step - loss: 0.1907 - accuracy: 0.9424 - val_loss: 0.0323 - val_accuracy: 0.9941\n",
            "Epoch 10/25\n",
            "272/272 [==============================] - 2s 9ms/step - loss: 0.1715 - accuracy: 0.9504 - val_loss: 0.0219 - val_accuracy: 0.9957\n",
            "Epoch 11/25\n",
            "272/272 [==============================] - 2s 9ms/step - loss: 0.1482 - accuracy: 0.9560 - val_loss: 0.0218 - val_accuracy: 0.9951\n",
            "Epoch 12/25\n",
            "272/272 [==============================] - 2s 9ms/step - loss: 0.1552 - accuracy: 0.9553 - val_loss: 0.0160 - val_accuracy: 0.9977\n",
            "Epoch 13/25\n",
            "272/272 [==============================] - 2s 9ms/step - loss: 0.1458 - accuracy: 0.9579 - val_loss: 0.0136 - val_accuracy: 0.9969\n",
            "Epoch 14/25\n",
            "272/272 [==============================] - 2s 9ms/step - loss: 0.1356 - accuracy: 0.9606 - val_loss: 0.0144 - val_accuracy: 0.9973\n",
            "Epoch 15/25\n",
            "272/272 [==============================] - 2s 9ms/step - loss: 0.1259 - accuracy: 0.9642 - val_loss: 0.0134 - val_accuracy: 0.9975\n",
            "Epoch 16/25\n",
            "272/272 [==============================] - 2s 9ms/step - loss: 0.1281 - accuracy: 0.9638 - val_loss: 0.0165 - val_accuracy: 0.9959\n",
            "Epoch 17/25\n",
            "272/272 [==============================] - 2s 9ms/step - loss: 0.1490 - accuracy: 0.9593 - val_loss: 0.0140 - val_accuracy: 0.9969\n",
            "Epoch 18/25\n",
            "272/272 [==============================] - 2s 9ms/step - loss: 0.1253 - accuracy: 0.9666 - val_loss: 0.0089 - val_accuracy: 0.9981\n",
            "Epoch 19/25\n",
            "272/272 [==============================] - 2s 9ms/step - loss: 0.1284 - accuracy: 0.9675 - val_loss: 0.0184 - val_accuracy: 0.9944\n",
            "Epoch 20/25\n",
            "272/272 [==============================] - 2s 9ms/step - loss: 0.1412 - accuracy: 0.9640 - val_loss: 0.0127 - val_accuracy: 0.9976\n",
            "Epoch 21/25\n",
            "272/272 [==============================] - 2s 9ms/step - loss: 0.1274 - accuracy: 0.9666 - val_loss: 0.0102 - val_accuracy: 0.9970\n",
            "Epoch 22/25\n",
            "272/272 [==============================] - 2s 9ms/step - loss: 0.1156 - accuracy: 0.9698 - val_loss: 0.0197 - val_accuracy: 0.9955\n",
            "Epoch 23/25\n",
            "272/272 [==============================] - 2s 9ms/step - loss: 0.1124 - accuracy: 0.9724 - val_loss: 0.0074 - val_accuracy: 0.9983\n",
            "Epoch 24/25\n",
            "272/272 [==============================] - 2s 9ms/step - loss: 0.1045 - accuracy: 0.9738 - val_loss: 0.0046 - val_accuracy: 0.9994\n",
            "Epoch 25/25\n",
            "272/272 [==============================] - 2s 9ms/step - loss: 0.1087 - accuracy: 0.9726 - val_loss: 0.0069 - val_accuracy: 0.9986\n"
          ],
          "name": "stdout"
        },
        {
          "output_type": "execute_result",
          "data": {
            "text/plain": [
              "0.9433106575963719"
            ]
          },
          "metadata": {
            "tags": []
          },
          "execution_count": 33
        }
      ]
    },
    {
      "cell_type": "code",
      "metadata": {
        "id": "fUc0PickWTty",
        "colab_type": "code",
        "colab": {
          "base_uri": "https://localhost:8080/",
          "height": 1000
        },
        "outputId": "c926495e-00cb-470b-986b-664bfd84d879"
      },
      "source": [
        "def get_cnn_v4(input_shape, num_classes):\n",
        "    model = Sequential([\n",
        "        Conv2D(filters=32, kernel_size=(3,3), activation='relu', input_shape=input_shape),\n",
        "        Conv2D(filters=32, kernel_size=(3,3), activation='relu'),\n",
        "        MaxPool2D(),\n",
        "        Dropout(0.3),\n",
        "\n",
        "        Conv2D(filters=64, kernel_size=(3,3), activation='relu'),\n",
        "        Conv2D(filters=64, kernel_size=(3,3), activation='relu'),\n",
        "        MaxPool2D(),\n",
        "        Dropout(0.3),\n",
        "\n",
        "        Flatten(),\n",
        "\n",
        "        Dense(1024, activation='relu'),\n",
        "        Dropout(0.3),   \n",
        "        Dense(num_classes, activation='softmax'),\n",
        "    ])\n",
        "    model.summary()\n",
        "    return model\n",
        "train_predict(get_cnn_v4(input_shape, num_classes))"
      ],
      "execution_count": 35,
      "outputs": [
        {
          "output_type": "stream",
          "text": [
            "Model: \"sequential_4\"\n",
            "_________________________________________________________________\n",
            "Layer (type)                 Output Shape              Param #   \n",
            "=================================================================\n",
            "conv2d_9 (Conv2D)            (None, 30, 30, 32)        896       \n",
            "_________________________________________________________________\n",
            "conv2d_10 (Conv2D)           (None, 28, 28, 32)        9248      \n",
            "_________________________________________________________________\n",
            "max_pooling2d_6 (MaxPooling2 (None, 14, 14, 32)        0         \n",
            "_________________________________________________________________\n",
            "dropout_9 (Dropout)          (None, 14, 14, 32)        0         \n",
            "_________________________________________________________________\n",
            "conv2d_11 (Conv2D)           (None, 12, 12, 64)        18496     \n",
            "_________________________________________________________________\n",
            "conv2d_12 (Conv2D)           (None, 10, 10, 64)        36928     \n",
            "_________________________________________________________________\n",
            "max_pooling2d_7 (MaxPooling2 (None, 5, 5, 64)          0         \n",
            "_________________________________________________________________\n",
            "dropout_10 (Dropout)         (None, 5, 5, 64)          0         \n",
            "_________________________________________________________________\n",
            "flatten_4 (Flatten)          (None, 1600)              0         \n",
            "_________________________________________________________________\n",
            "dense_7 (Dense)              (None, 1024)              1639424   \n",
            "_________________________________________________________________\n",
            "dropout_11 (Dropout)         (None, 1024)              0         \n",
            "_________________________________________________________________\n",
            "dense_8 (Dense)              (None, 43)                44075     \n",
            "=================================================================\n",
            "Total params: 1,749,067\n",
            "Trainable params: 1,749,067\n",
            "Non-trainable params: 0\n",
            "_________________________________________________________________\n",
            "Epoch 1/25\n",
            "272/272 [==============================] - 3s 12ms/step - loss: 1.5811 - accuracy: 0.6479 - val_loss: 0.2116 - val_accuracy: 0.9556\n",
            "Epoch 2/25\n",
            "272/272 [==============================] - 3s 11ms/step - loss: 0.3324 - accuracy: 0.9045 - val_loss: 0.0590 - val_accuracy: 0.9854\n",
            "Epoch 3/25\n",
            "272/272 [==============================] - 3s 11ms/step - loss: 0.1933 - accuracy: 0.9436 - val_loss: 0.0379 - val_accuracy: 0.9904\n",
            "Epoch 4/25\n",
            "272/272 [==============================] - 3s 11ms/step - loss: 0.1362 - accuracy: 0.9589 - val_loss: 0.0262 - val_accuracy: 0.9928\n",
            "Epoch 5/25\n",
            "272/272 [==============================] - 3s 11ms/step - loss: 0.1069 - accuracy: 0.9673 - val_loss: 0.0153 - val_accuracy: 0.9955\n",
            "Epoch 6/25\n",
            "272/272 [==============================] - 3s 11ms/step - loss: 0.0914 - accuracy: 0.9726 - val_loss: 0.0108 - val_accuracy: 0.9976\n",
            "Epoch 7/25\n",
            "272/272 [==============================] - 3s 11ms/step - loss: 0.0908 - accuracy: 0.9737 - val_loss: 0.0088 - val_accuracy: 0.9979\n",
            "Epoch 8/25\n",
            "272/272 [==============================] - 3s 11ms/step - loss: 0.0688 - accuracy: 0.9803 - val_loss: 0.0095 - val_accuracy: 0.9980\n",
            "Epoch 9/25\n",
            "272/272 [==============================] - 3s 12ms/step - loss: 0.0607 - accuracy: 0.9824 - val_loss: 0.0046 - val_accuracy: 0.9989\n",
            "Epoch 10/25\n",
            "272/272 [==============================] - 3s 12ms/step - loss: 0.0755 - accuracy: 0.9789 - val_loss: 0.0123 - val_accuracy: 0.9967\n",
            "Epoch 11/25\n",
            "272/272 [==============================] - 3s 11ms/step - loss: 0.0506 - accuracy: 0.9852 - val_loss: 0.0065 - val_accuracy: 0.9986\n",
            "Epoch 12/25\n",
            "272/272 [==============================] - 3s 11ms/step - loss: 0.0559 - accuracy: 0.9836 - val_loss: 0.0035 - val_accuracy: 0.9991\n",
            "Epoch 13/25\n",
            "272/272 [==============================] - 3s 11ms/step - loss: 0.0492 - accuracy: 0.9857 - val_loss: 0.0050 - val_accuracy: 0.9986\n",
            "Epoch 14/25\n",
            "272/272 [==============================] - 3s 11ms/step - loss: 0.0471 - accuracy: 0.9865 - val_loss: 0.0018 - val_accuracy: 0.9995\n",
            "Epoch 15/25\n",
            "272/272 [==============================] - 3s 11ms/step - loss: 0.0448 - accuracy: 0.9876 - val_loss: 0.0055 - val_accuracy: 0.9986\n",
            "Epoch 16/25\n",
            "272/272 [==============================] - 3s 11ms/step - loss: 0.0495 - accuracy: 0.9861 - val_loss: 0.0049 - val_accuracy: 0.9986\n",
            "Epoch 17/25\n",
            "272/272 [==============================] - 3s 11ms/step - loss: 0.0520 - accuracy: 0.9855 - val_loss: 0.0069 - val_accuracy: 0.9985\n",
            "Epoch 18/25\n",
            "272/272 [==============================] - 3s 11ms/step - loss: 0.0530 - accuracy: 0.9861 - val_loss: 0.0026 - val_accuracy: 0.9994\n",
            "Epoch 19/25\n",
            "272/272 [==============================] - 3s 11ms/step - loss: 0.0392 - accuracy: 0.9884 - val_loss: 0.0036 - val_accuracy: 0.9989\n",
            "Epoch 20/25\n",
            "272/272 [==============================] - 3s 11ms/step - loss: 0.0530 - accuracy: 0.9868 - val_loss: 0.0037 - val_accuracy: 0.9991\n",
            "Epoch 21/25\n",
            "272/272 [==============================] - 3s 11ms/step - loss: 0.0421 - accuracy: 0.9891 - val_loss: 0.0036 - val_accuracy: 0.9989\n",
            "Epoch 22/25\n",
            "272/272 [==============================] - 3s 11ms/step - loss: 0.0476 - accuracy: 0.9874 - val_loss: 0.0016 - val_accuracy: 0.9996\n",
            "Epoch 23/25\n",
            "272/272 [==============================] - 3s 11ms/step - loss: 0.0458 - accuracy: 0.9887 - val_loss: 0.0015 - val_accuracy: 0.9996\n",
            "Epoch 24/25\n",
            "272/272 [==============================] - 3s 11ms/step - loss: 0.0503 - accuracy: 0.9879 - val_loss: 0.0011 - val_accuracy: 0.9998\n",
            "Epoch 25/25\n",
            "272/272 [==============================] - 3s 11ms/step - loss: 0.0432 - accuracy: 0.9899 - val_loss: 0.0109 - val_accuracy: 0.9972\n"
          ],
          "name": "stdout"
        },
        {
          "output_type": "execute_result",
          "data": {
            "text/plain": [
              "0.9748299319727891"
            ]
          },
          "metadata": {
            "tags": []
          },
          "execution_count": 35
        }
      ]
    },
    {
      "cell_type": "code",
      "metadata": {
        "id": "8fWXKu46Xnq_",
        "colab_type": "code",
        "colab": {
          "base_uri": "https://localhost:8080/",
          "height": 1000
        },
        "outputId": "a1e44318-fc99-4b98-c0d7-07cfc3217a30"
      },
      "source": [
        "def get_cnn_v5(input_shape, num_classes):\n",
        "    model = Sequential([\n",
        "        Conv2D(filters=32, kernel_size=(3,3), activation='relu', input_shape=input_shape),\n",
        "        Conv2D(filters=32, kernel_size=(3,3), activation='relu', padding='same'),\n",
        "        MaxPool2D(),\n",
        "        Dropout(0.3),\n",
        "\n",
        "        Conv2D(filters=64, kernel_size=(3,3), activation='relu', padding='same'),\n",
        "        Conv2D(filters=64, kernel_size=(3,3), activation='relu'),\n",
        "        MaxPool2D(),\n",
        "        Dropout(0.3),\n",
        "\n",
        "        Conv2D(filters=64, kernel_size=(3,3), activation='relu', padding='same'),\n",
        "        Conv2D(filters=64, kernel_size=(3,3), activation='relu'),\n",
        "        MaxPool2D(),\n",
        "        Dropout(0.3),\n",
        "\n",
        "        Flatten(),\n",
        "\n",
        "        Dense(1024, activation='relu'),\n",
        "        Dropout(0.3),   \n",
        "        Dense(num_classes, activation='softmax'),\n",
        "    ])\n",
        "    model.summary()\n",
        "    return model\n",
        "train_predict(get_cnn_v5(input_shape, num_classes))"
      ],
      "execution_count": 36,
      "outputs": [
        {
          "output_type": "stream",
          "text": [
            "Model: \"sequential_5\"\n",
            "_________________________________________________________________\n",
            "Layer (type)                 Output Shape              Param #   \n",
            "=================================================================\n",
            "conv2d_13 (Conv2D)           (None, 30, 30, 32)        896       \n",
            "_________________________________________________________________\n",
            "conv2d_14 (Conv2D)           (None, 30, 30, 32)        9248      \n",
            "_________________________________________________________________\n",
            "max_pooling2d_8 (MaxPooling2 (None, 15, 15, 32)        0         \n",
            "_________________________________________________________________\n",
            "dropout_12 (Dropout)         (None, 15, 15, 32)        0         \n",
            "_________________________________________________________________\n",
            "conv2d_15 (Conv2D)           (None, 15, 15, 64)        18496     \n",
            "_________________________________________________________________\n",
            "conv2d_16 (Conv2D)           (None, 13, 13, 64)        36928     \n",
            "_________________________________________________________________\n",
            "max_pooling2d_9 (MaxPooling2 (None, 6, 6, 64)          0         \n",
            "_________________________________________________________________\n",
            "dropout_13 (Dropout)         (None, 6, 6, 64)          0         \n",
            "_________________________________________________________________\n",
            "conv2d_17 (Conv2D)           (None, 6, 6, 64)          36928     \n",
            "_________________________________________________________________\n",
            "conv2d_18 (Conv2D)           (None, 4, 4, 64)          36928     \n",
            "_________________________________________________________________\n",
            "max_pooling2d_10 (MaxPooling (None, 2, 2, 64)          0         \n",
            "_________________________________________________________________\n",
            "dropout_14 (Dropout)         (None, 2, 2, 64)          0         \n",
            "_________________________________________________________________\n",
            "flatten_5 (Flatten)          (None, 256)               0         \n",
            "_________________________________________________________________\n",
            "dense_9 (Dense)              (None, 1024)              263168    \n",
            "_________________________________________________________________\n",
            "dropout_15 (Dropout)         (None, 1024)              0         \n",
            "_________________________________________________________________\n",
            "dense_10 (Dense)             (None, 43)                44075     \n",
            "=================================================================\n",
            "Total params: 446,667\n",
            "Trainable params: 446,667\n",
            "Non-trainable params: 0\n",
            "_________________________________________________________________\n",
            "Epoch 1/25\n",
            "272/272 [==============================] - 4s 14ms/step - loss: 2.6748 - accuracy: 0.2700 - val_loss: 1.3885 - val_accuracy: 0.5918\n",
            "Epoch 2/25\n",
            "272/272 [==============================] - 4s 13ms/step - loss: 1.0808 - accuracy: 0.6545 - val_loss: 0.3187 - val_accuracy: 0.8992\n",
            "Epoch 3/25\n",
            "272/272 [==============================] - 4s 14ms/step - loss: 0.4570 - accuracy: 0.8565 - val_loss: 0.0996 - val_accuracy: 0.9748\n",
            "Epoch 4/25\n",
            "272/272 [==============================] - 4s 13ms/step - loss: 0.2679 - accuracy: 0.9191 - val_loss: 0.0508 - val_accuracy: 0.9867\n",
            "Epoch 5/25\n",
            "272/272 [==============================] - 4s 13ms/step - loss: 0.1913 - accuracy: 0.9418 - val_loss: 0.0469 - val_accuracy: 0.9866\n",
            "Epoch 6/25\n",
            "272/272 [==============================] - 4s 13ms/step - loss: 0.1616 - accuracy: 0.9518 - val_loss: 0.0286 - val_accuracy: 0.9917\n",
            "Epoch 7/25\n",
            "272/272 [==============================] - 4s 13ms/step - loss: 0.1272 - accuracy: 0.9633 - val_loss: 0.0172 - val_accuracy: 0.9947\n",
            "Epoch 8/25\n",
            "272/272 [==============================] - 4s 13ms/step - loss: 0.1133 - accuracy: 0.9674 - val_loss: 0.0125 - val_accuracy: 0.9972\n",
            "Epoch 9/25\n",
            "272/272 [==============================] - 4s 13ms/step - loss: 0.1039 - accuracy: 0.9695 - val_loss: 0.0118 - val_accuracy: 0.9967\n",
            "Epoch 10/25\n",
            "272/272 [==============================] - 4s 13ms/step - loss: 0.0857 - accuracy: 0.9752 - val_loss: 0.0102 - val_accuracy: 0.9974\n",
            "Epoch 11/25\n",
            "272/272 [==============================] - 4s 13ms/step - loss: 0.0957 - accuracy: 0.9726 - val_loss: 0.0137 - val_accuracy: 0.9960\n",
            "Epoch 12/25\n",
            "272/272 [==============================] - 4s 13ms/step - loss: 0.0866 - accuracy: 0.9760 - val_loss: 0.0134 - val_accuracy: 0.9967\n",
            "Epoch 13/25\n",
            "272/272 [==============================] - 4s 13ms/step - loss: 0.0798 - accuracy: 0.9787 - val_loss: 0.0115 - val_accuracy: 0.9969\n",
            "Epoch 14/25\n",
            "272/272 [==============================] - 4s 13ms/step - loss: 0.0760 - accuracy: 0.9787 - val_loss: 0.0094 - val_accuracy: 0.9974\n",
            "Epoch 15/25\n",
            "272/272 [==============================] - 4s 13ms/step - loss: 0.0858 - accuracy: 0.9766 - val_loss: 0.0064 - val_accuracy: 0.9983\n",
            "Epoch 16/25\n",
            "272/272 [==============================] - 3s 13ms/step - loss: 0.0758 - accuracy: 0.9795 - val_loss: 0.0056 - val_accuracy: 0.9986\n",
            "Epoch 17/25\n",
            "272/272 [==============================] - 4s 13ms/step - loss: 0.0755 - accuracy: 0.9794 - val_loss: 0.0064 - val_accuracy: 0.9984\n",
            "Epoch 18/25\n",
            "272/272 [==============================] - 4s 13ms/step - loss: 0.0733 - accuracy: 0.9798 - val_loss: 0.0104 - val_accuracy: 0.9967\n",
            "Epoch 19/25\n",
            "272/272 [==============================] - 4s 13ms/step - loss: 0.0694 - accuracy: 0.9815 - val_loss: 0.0098 - val_accuracy: 0.9972\n",
            "Epoch 20/25\n",
            "272/272 [==============================] - 4s 13ms/step - loss: 0.0621 - accuracy: 0.9839 - val_loss: 0.0045 - val_accuracy: 0.9989\n",
            "Epoch 21/25\n",
            "272/272 [==============================] - 4s 13ms/step - loss: 0.0796 - accuracy: 0.9791 - val_loss: 0.0146 - val_accuracy: 0.9967\n",
            "Epoch 22/25\n",
            "272/272 [==============================] - 4s 13ms/step - loss: 0.0604 - accuracy: 0.9835 - val_loss: 0.0061 - val_accuracy: 0.9986\n",
            "Epoch 23/25\n",
            "272/272 [==============================] - 3s 13ms/step - loss: 0.0617 - accuracy: 0.9850 - val_loss: 0.0037 - val_accuracy: 0.9991\n",
            "Epoch 24/25\n",
            "272/272 [==============================] - 4s 13ms/step - loss: 0.0513 - accuracy: 0.9861 - val_loss: 0.0069 - val_accuracy: 0.9978\n",
            "Epoch 25/25\n",
            "272/272 [==============================] - 4s 13ms/step - loss: 0.0632 - accuracy: 0.9838 - val_loss: 0.0072 - val_accuracy: 0.9982\n"
          ],
          "name": "stdout"
        },
        {
          "output_type": "execute_result",
          "data": {
            "text/plain": [
              "0.9777777777777777"
            ]
          },
          "metadata": {
            "tags": []
          },
          "execution_count": 36
        }
      ]
    },
    {
      "cell_type": "code",
      "metadata": {
        "id": "1VXma8ypZSE8",
        "colab_type": "code",
        "colab": {
          "base_uri": "https://localhost:8080/",
          "height": 1000
        },
        "outputId": "e0789d5d-9dbf-453f-adcb-b8900ade7a84"
      },
      "source": [
        "def get_cnn_v6(input_shape, num_classes):\n",
        "    model = Sequential([\n",
        "        Conv2D(filters=32, kernel_size=(3,3), activation='relu', input_shape=input_shape),\n",
        "        Conv2D(filters=32, kernel_size=(3,3), activation='relu', padding='same'),\n",
        "        MaxPool2D(),\n",
        "        Dropout(0.3),\n",
        "\n",
        "        Conv2D(filters=64, kernel_size=(3,3), activation='relu', padding='same'),\n",
        "        Conv2D(filters=64, kernel_size=(3,3), activation='relu'),\n",
        "        MaxPool2D(),\n",
        "        Dropout(0.3),\n",
        "\n",
        "        Conv2D(filters=64, kernel_size=(3,3), activation='relu', padding='same'),\n",
        "        Conv2D(filters=64, kernel_size=(3,3), activation='relu'),\n",
        "        MaxPool2D(),\n",
        "        Dropout(0.3),\n",
        "\n",
        "        Flatten(),\n",
        "\n",
        "        Dense(1024, activation='relu'),\n",
        "        Dropout(0.3),\n",
        "\n",
        "        Dense(1024, activation='relu'),\n",
        "        Dropout(0.3),\n",
        "\n",
        "        Dense(num_classes, activation='softmax'),\n",
        "    ])\n",
        "    model.summary()\n",
        "    return model\n",
        "train_predict(get_cnn_v6(input_shape, num_classes))"
      ],
      "execution_count": 37,
      "outputs": [
        {
          "output_type": "stream",
          "text": [
            "Model: \"sequential_6\"\n",
            "_________________________________________________________________\n",
            "Layer (type)                 Output Shape              Param #   \n",
            "=================================================================\n",
            "conv2d_19 (Conv2D)           (None, 30, 30, 32)        896       \n",
            "_________________________________________________________________\n",
            "conv2d_20 (Conv2D)           (None, 30, 30, 32)        9248      \n",
            "_________________________________________________________________\n",
            "max_pooling2d_11 (MaxPooling (None, 15, 15, 32)        0         \n",
            "_________________________________________________________________\n",
            "dropout_16 (Dropout)         (None, 15, 15, 32)        0         \n",
            "_________________________________________________________________\n",
            "conv2d_21 (Conv2D)           (None, 15, 15, 64)        18496     \n",
            "_________________________________________________________________\n",
            "conv2d_22 (Conv2D)           (None, 13, 13, 64)        36928     \n",
            "_________________________________________________________________\n",
            "max_pooling2d_12 (MaxPooling (None, 6, 6, 64)          0         \n",
            "_________________________________________________________________\n",
            "dropout_17 (Dropout)         (None, 6, 6, 64)          0         \n",
            "_________________________________________________________________\n",
            "conv2d_23 (Conv2D)           (None, 6, 6, 64)          36928     \n",
            "_________________________________________________________________\n",
            "conv2d_24 (Conv2D)           (None, 4, 4, 64)          36928     \n",
            "_________________________________________________________________\n",
            "max_pooling2d_13 (MaxPooling (None, 2, 2, 64)          0         \n",
            "_________________________________________________________________\n",
            "dropout_18 (Dropout)         (None, 2, 2, 64)          0         \n",
            "_________________________________________________________________\n",
            "flatten_6 (Flatten)          (None, 256)               0         \n",
            "_________________________________________________________________\n",
            "dense_11 (Dense)             (None, 1024)              263168    \n",
            "_________________________________________________________________\n",
            "dropout_19 (Dropout)         (None, 1024)              0         \n",
            "_________________________________________________________________\n",
            "dense_12 (Dense)             (None, 1024)              1049600   \n",
            "_________________________________________________________________\n",
            "dropout_20 (Dropout)         (None, 1024)              0         \n",
            "_________________________________________________________________\n",
            "dense_13 (Dense)             (None, 43)                44075     \n",
            "=================================================================\n",
            "Total params: 1,496,267\n",
            "Trainable params: 1,496,267\n",
            "Non-trainable params: 0\n",
            "_________________________________________________________________\n",
            "Epoch 1/25\n",
            "272/272 [==============================] - 4s 15ms/step - loss: 2.8569 - accuracy: 0.2190 - val_loss: 1.4632 - val_accuracy: 0.5233\n",
            "Epoch 2/25\n",
            "272/272 [==============================] - 4s 14ms/step - loss: 1.2315 - accuracy: 0.5946 - val_loss: 0.3769 - val_accuracy: 0.8810\n",
            "Epoch 3/25\n",
            "272/272 [==============================] - 4s 14ms/step - loss: 0.5906 - accuracy: 0.8126 - val_loss: 0.1494 - val_accuracy: 0.9591\n",
            "Epoch 4/25\n",
            "272/272 [==============================] - 4s 14ms/step - loss: 0.3582 - accuracy: 0.8878 - val_loss: 0.0740 - val_accuracy: 0.9770\n",
            "Epoch 5/25\n",
            "272/272 [==============================] - 4s 14ms/step - loss: 0.2729 - accuracy: 0.9175 - val_loss: 0.0581 - val_accuracy: 0.9826\n",
            "Epoch 6/25\n",
            "272/272 [==============================] - 4s 14ms/step - loss: 0.2241 - accuracy: 0.9314 - val_loss: 0.0391 - val_accuracy: 0.9883\n",
            "Epoch 7/25\n",
            "272/272 [==============================] - 4s 14ms/step - loss: 0.1884 - accuracy: 0.9424 - val_loss: 0.0328 - val_accuracy: 0.9905\n",
            "Epoch 8/25\n",
            "272/272 [==============================] - 4s 14ms/step - loss: 0.1617 - accuracy: 0.9529 - val_loss: 0.0284 - val_accuracy: 0.9922\n",
            "Epoch 9/25\n",
            "272/272 [==============================] - 4s 14ms/step - loss: 0.1451 - accuracy: 0.9568 - val_loss: 0.0316 - val_accuracy: 0.9914\n",
            "Epoch 10/25\n",
            "272/272 [==============================] - 4s 14ms/step - loss: 0.1431 - accuracy: 0.9584 - val_loss: 0.0199 - val_accuracy: 0.9941\n",
            "Epoch 11/25\n",
            "272/272 [==============================] - 4s 14ms/step - loss: 0.1290 - accuracy: 0.9637 - val_loss: 0.0188 - val_accuracy: 0.9941\n",
            "Epoch 12/25\n",
            "272/272 [==============================] - 4s 14ms/step - loss: 0.1240 - accuracy: 0.9641 - val_loss: 0.0145 - val_accuracy: 0.9961\n",
            "Epoch 13/25\n",
            "272/272 [==============================] - 4s 14ms/step - loss: 0.1287 - accuracy: 0.9643 - val_loss: 0.0150 - val_accuracy: 0.9958\n",
            "Epoch 14/25\n",
            "272/272 [==============================] - 4s 14ms/step - loss: 0.1246 - accuracy: 0.9652 - val_loss: 0.0261 - val_accuracy: 0.9924\n",
            "Epoch 15/25\n",
            "272/272 [==============================] - 4s 14ms/step - loss: 0.1115 - accuracy: 0.9700 - val_loss: 0.0151 - val_accuracy: 0.9958\n",
            "Epoch 16/25\n",
            "272/272 [==============================] - 4s 14ms/step - loss: 0.1042 - accuracy: 0.9696 - val_loss: 0.0176 - val_accuracy: 0.9952\n",
            "Epoch 17/25\n",
            "272/272 [==============================] - 4s 14ms/step - loss: 0.1070 - accuracy: 0.9701 - val_loss: 0.0204 - val_accuracy: 0.9938\n",
            "Epoch 18/25\n",
            "272/272 [==============================] - 4s 14ms/step - loss: 0.0889 - accuracy: 0.9759 - val_loss: 0.0148 - val_accuracy: 0.9956\n",
            "Epoch 19/25\n",
            "272/272 [==============================] - 4s 14ms/step - loss: 0.1059 - accuracy: 0.9722 - val_loss: 0.0142 - val_accuracy: 0.9961\n",
            "Epoch 20/25\n",
            "272/272 [==============================] - 4s 14ms/step - loss: 0.1013 - accuracy: 0.9725 - val_loss: 0.0148 - val_accuracy: 0.9959\n",
            "Epoch 21/25\n",
            "272/272 [==============================] - 4s 14ms/step - loss: 0.0932 - accuracy: 0.9743 - val_loss: 0.0097 - val_accuracy: 0.9972\n",
            "Epoch 22/25\n",
            "272/272 [==============================] - 4s 14ms/step - loss: 0.1002 - accuracy: 0.9735 - val_loss: 0.0167 - val_accuracy: 0.9950\n",
            "Epoch 23/25\n",
            "272/272 [==============================] - 4s 14ms/step - loss: 0.1121 - accuracy: 0.9710 - val_loss: 0.0101 - val_accuracy: 0.9974\n",
            "Epoch 24/25\n",
            "272/272 [==============================] - 4s 14ms/step - loss: 0.0949 - accuracy: 0.9761 - val_loss: 0.0081 - val_accuracy: 0.9978\n",
            "Epoch 25/25\n",
            "272/272 [==============================] - 4s 13ms/step - loss: 0.0959 - accuracy: 0.9737 - val_loss: 0.0080 - val_accuracy: 0.9977\n"
          ],
          "name": "stdout"
        },
        {
          "output_type": "execute_result",
          "data": {
            "text/plain": [
              "0.9682539682539683"
            ]
          },
          "metadata": {
            "tags": []
          },
          "execution_count": 37
        }
      ]
    },
    {
      "cell_type": "code",
      "metadata": {
        "id": "1F1PlRCdaPaK",
        "colab_type": "code",
        "colab": {
          "base_uri": "https://localhost:8080/",
          "height": 34
        },
        "outputId": "0286de13-b343-4bea-ca42-9bbc4b8f3804"
      },
      "source": [
        "color.rgb2gray(X_train[0]).shape"
      ],
      "execution_count": 39,
      "outputs": [
        {
          "output_type": "execute_result",
          "data": {
            "text/plain": [
              "(32, 32)"
            ]
          },
          "metadata": {
            "tags": []
          },
          "execution_count": 39
        }
      ]
    },
    {
      "cell_type": "code",
      "metadata": {
        "id": "6zab-Ollf5sX",
        "colab_type": "code",
        "colab": {
          "base_uri": "https://localhost:8080/",
          "height": 283
        },
        "outputId": "87a8dacd-a87e-4320-e4b8-2e032daa8367"
      },
      "source": [
        "plt.imshow(color.rgb2gray(X_train[0]), cmap=plt.get_cmap('gray'))"
      ],
      "execution_count": 43,
      "outputs": [
        {
          "output_type": "execute_result",
          "data": {
            "text/plain": [
              "<matplotlib.image.AxesImage at 0x7f5ec08784a8>"
            ]
          },
          "metadata": {
            "tags": []
          },
          "execution_count": 43
        },
        {
          "output_type": "display_data",
          "data": {
            "image/png": "[encoded data removed]",
            "text/plain": [
              "<Figure size 432x288 with 1 Axes>"
            ]
          },
          "metadata": {
            "tags": []
          }
        }
      ]
    },
    {
      "cell_type": "code",
      "metadata": {
        "id": "uMF6EfuugWpl",
        "colab_type": "code",
        "colab": {}
      },
      "source": [
        "X_train_gray = color.rgb2gray(X_train).reshape(-1, 32, 32, 1)\n",
        "X_test_gray = color.rgb2gray(X_test).reshape(-1, 32, 32, 1)"
      ],
      "execution_count": 0,
      "outputs": []
    },
    {
      "cell_type": "code",
      "metadata": {
        "id": "LhTMrDr6hFv3",
        "colab_type": "code",
        "colab": {
          "base_uri": "https://localhost:8080/",
          "height": 1000
        },
        "outputId": "28d8847e-2c1f-439a-aa77-ebc698b15bbd"
      },
      "source": [
        "model = get_cnn_v5((32, 32, 1), num_classes)\n",
        "model_trained = train_model(model, X_train_gray, y_train, params_fit)\n",
        "predict(model_trained, X_test_gray, y_test)"
      ],
      "execution_count": 48,
      "outputs": [
        {
          "output_type": "stream",
          "text": [
            "Model: \"sequential_9\"\n",
            "_________________________________________________________________\n",
            "Layer (type)                 Output Shape              Param #   \n",
            "=================================================================\n",
            "conv2d_37 (Conv2D)           (None, 30, 30, 32)        320       \n",
            "_________________________________________________________________\n",
            "conv2d_38 (Conv2D)           (None, 30, 30, 32)        9248      \n",
            "_________________________________________________________________\n",
            "max_pooling2d_20 (MaxPooling (None, 15, 15, 32)        0         \n",
            "_________________________________________________________________\n",
            "dropout_30 (Dropout)         (None, 15, 15, 32)        0         \n",
            "_________________________________________________________________\n",
            "conv2d_39 (Conv2D)           (None, 15, 15, 64)        18496     \n",
            "_________________________________________________________________\n",
            "conv2d_40 (Conv2D)           (None, 13, 13, 64)        36928     \n",
            "_________________________________________________________________\n",
            "max_pooling2d_21 (MaxPooling (None, 6, 6, 64)          0         \n",
            "_________________________________________________________________\n",
            "dropout_31 (Dropout)         (None, 6, 6, 64)          0         \n",
            "_________________________________________________________________\n",
            "conv2d_41 (Conv2D)           (None, 6, 6, 64)          36928     \n",
            "_________________________________________________________________\n",
            "conv2d_42 (Conv2D)           (None, 4, 4, 64)          36928     \n",
            "_________________________________________________________________\n",
            "max_pooling2d_22 (MaxPooling (None, 2, 2, 64)          0         \n",
            "_________________________________________________________________\n",
            "dropout_32 (Dropout)         (None, 2, 2, 64)          0         \n",
            "_________________________________________________________________\n",
            "flatten_9 (Flatten)          (None, 256)               0         \n",
            "_________________________________________________________________\n",
            "dense_19 (Dense)             (None, 1024)              263168    \n",
            "_________________________________________________________________\n",
            "dropout_33 (Dropout)         (None, 1024)              0         \n",
            "_________________________________________________________________\n",
            "dense_20 (Dense)             (None, 43)                44075     \n",
            "=================================================================\n",
            "Total params: 446,091\n",
            "Trainable params: 446,091\n",
            "Non-trainable params: 0\n",
            "_________________________________________________________________\n",
            "Epoch 1/25\n",
            "272/272 [==============================] - 4s 14ms/step - loss: 2.1026 - accuracy: 0.4096 - val_loss: 0.4477 - val_accuracy: 0.8742\n",
            "Epoch 2/25\n",
            "272/272 [==============================] - 4s 13ms/step - loss: 0.4202 - accuracy: 0.8645 - val_loss: 0.1019 - val_accuracy: 0.9690\n",
            "Epoch 3/25\n",
            "272/272 [==============================] - 4s 13ms/step - loss: 0.2095 - accuracy: 0.9341 - val_loss: 0.0579 - val_accuracy: 0.9826\n",
            "Epoch 4/25\n",
            "272/272 [==============================] - 4s 13ms/step - loss: 0.1424 - accuracy: 0.9543 - val_loss: 0.0364 - val_accuracy: 0.9905\n",
            "Epoch 5/25\n",
            "272/272 [==============================] - 4s 13ms/step - loss: 0.1087 - accuracy: 0.9660 - val_loss: 0.0216 - val_accuracy: 0.9937\n",
            "Epoch 6/25\n",
            "272/272 [==============================] - 4s 13ms/step - loss: 0.0880 - accuracy: 0.9723 - val_loss: 0.0143 - val_accuracy: 0.9957\n",
            "Epoch 7/25\n",
            "272/272 [==============================] - 4s 13ms/step - loss: 0.0790 - accuracy: 0.9751 - val_loss: 0.0182 - val_accuracy: 0.9945\n",
            "Epoch 8/25\n",
            "272/272 [==============================] - 4s 13ms/step - loss: 0.0618 - accuracy: 0.9802 - val_loss: 0.0100 - val_accuracy: 0.9972\n",
            "Epoch 9/25\n",
            "272/272 [==============================] - 4s 13ms/step - loss: 0.0610 - accuracy: 0.9805 - val_loss: 0.0128 - val_accuracy: 0.9967\n",
            "Epoch 10/25\n",
            "272/272 [==============================] - 4s 13ms/step - loss: 0.0508 - accuracy: 0.9835 - val_loss: 0.0061 - val_accuracy: 0.9981\n",
            "Epoch 11/25\n",
            "272/272 [==============================] - 4s 13ms/step - loss: 0.0520 - accuracy: 0.9831 - val_loss: 0.0048 - val_accuracy: 0.9987\n",
            "Epoch 12/25\n",
            "272/272 [==============================] - 4s 13ms/step - loss: 0.0493 - accuracy: 0.9841 - val_loss: 0.0073 - val_accuracy: 0.9975\n",
            "Epoch 13/25\n",
            "272/272 [==============================] - 4s 13ms/step - loss: 0.0458 - accuracy: 0.9853 - val_loss: 0.0049 - val_accuracy: 0.9983\n",
            "Epoch 14/25\n",
            "272/272 [==============================] - 4s 13ms/step - loss: 0.0390 - accuracy: 0.9886 - val_loss: 0.0057 - val_accuracy: 0.9985\n",
            "Epoch 15/25\n",
            "272/272 [==============================] - 4s 13ms/step - loss: 0.0394 - accuracy: 0.9880 - val_loss: 0.0034 - val_accuracy: 0.9990\n",
            "Epoch 16/25\n",
            "272/272 [==============================] - 4s 13ms/step - loss: 0.0389 - accuracy: 0.9876 - val_loss: 0.0030 - val_accuracy: 0.9995\n",
            "Epoch 17/25\n",
            "272/272 [==============================] - 4s 13ms/step - loss: 0.0360 - accuracy: 0.9883 - val_loss: 0.0028 - val_accuracy: 0.9993\n",
            "Epoch 18/25\n",
            "272/272 [==============================] - 4s 13ms/step - loss: 0.0374 - accuracy: 0.9884 - val_loss: 0.0050 - val_accuracy: 0.9986\n",
            "Epoch 19/25\n",
            "272/272 [==============================] - 4s 13ms/step - loss: 0.0303 - accuracy: 0.9909 - val_loss: 0.0025 - val_accuracy: 0.9994\n",
            "Epoch 20/25\n",
            "272/272 [==============================] - 4s 14ms/step - loss: 0.0326 - accuracy: 0.9895 - val_loss: 0.0035 - val_accuracy: 0.9991\n",
            "Epoch 21/25\n",
            "272/272 [==============================] - 4s 13ms/step - loss: 0.0334 - accuracy: 0.9896 - val_loss: 0.0026 - val_accuracy: 0.9992\n",
            "Epoch 22/25\n",
            "272/272 [==============================] - 4s 13ms/step - loss: 0.0289 - accuracy: 0.9910 - val_loss: 0.0011 - val_accuracy: 0.9997\n",
            "Epoch 23/25\n",
            "272/272 [==============================] - 4s 13ms/step - loss: 0.0285 - accuracy: 0.9910 - val_loss: 0.0010 - val_accuracy: 0.9998\n",
            "Epoch 24/25\n",
            "272/272 [==============================] - 4s 13ms/step - loss: 0.0281 - accuracy: 0.9916 - val_loss: 0.0015 - val_accuracy: 0.9995\n",
            "Epoch 25/25\n",
            "272/272 [==============================] - 3s 13ms/step - loss: 0.0274 - accuracy: 0.9918 - val_loss: 0.0017 - val_accuracy: 0.9997\n"
          ],
          "name": "stdout"
        },
        {
          "output_type": "execute_result",
          "data": {
            "text/plain": [
              "0.9879818594104308"
            ]
          },
          "metadata": {
            "tags": []
          },
          "execution_count": 48
        }
      ]
    },
    {
      "cell_type": "code",
      "metadata": {
        "id": "dvlcGWn6jDCg",
        "colab_type": "code",
        "colab": {}
      },
      "source": [
        "def preproc_img(img):\n",
        "    hsv = color.rgb2hsv(img)\n",
        "    hsv[:, :, 2] = exposure.equalize_adapthist(hsv[:, :, 2])\n",
        "    img = color.hsv2rgb(hsv)\n",
        "    return img"
      ],
      "execution_count": 0,
      "outputs": []
    },
    {
      "cell_type": "code",
      "metadata": {
        "id": "vOVNtq_5mHW5",
        "colab_type": "code",
        "colab": {
          "base_uri": "https://localhost:8080/",
          "height": 283
        },
        "outputId": "ec422132-776c-4761-f72e-889bf1597636"
      },
      "source": [
        "plt.imshow(preproc_img(X_train[400]))"
      ],
      "execution_count": 51,
      "outputs": [
        {
          "output_type": "execute_result",
          "data": {
            "text/plain": [
              "<matplotlib.image.AxesImage at 0x7f5f100e14e0>"
            ]
          },
          "metadata": {
            "tags": []
          },
          "execution_count": 51
        },
        {
          "output_type": "display_data",
          "data": {
            "image/png": "[encoded data removed]",
            "text/plain": [
              "<Figure size 432x288 with 1 Axes>"
            ]
          },
          "metadata": {
            "tags": []
          }
        }
      ]
    },
    {
      "cell_type": "code",
      "metadata": {
        "id": "KtDDOTw9qtH3",
        "colab_type": "code",
        "colab": {
          "base_uri": "https://localhost:8080/",
          "height": 34
        },
        "outputId": "ad2ec70b-2e03-4ead-e0b4-bd949d77eae0"
      },
      "source": [
        "preproc_img(X_train[400]).shape"
      ],
      "execution_count": 54,
      "outputs": [
        {
          "output_type": "execute_result",
          "data": {
            "text/plain": [
              "(32, 32, 3)"
            ]
          },
          "metadata": {
            "tags": []
          },
          "execution_count": 54
        }
      ]
    },
    {
      "cell_type": "code",
      "metadata": {
        "id": "7UHa2zbRmPhY",
        "colab_type": "code",
        "colab": {
          "base_uri": "https://localhost:8080/",
          "height": 51
        },
        "outputId": "b973c05d-608a-4e61-a2d8-5d509a817305"
      },
      "source": [
        "X_train_prep = X_train.copy().astype(np.float32)\n",
        "X_test_prep = X_test.copy().astype(np.float32)\n",
        "\n",
        "for i in tqdm(range(X_train.shape[0])):\n",
        "    X_train_prep[i] = preproc_img(X_train[i])\n",
        "\n",
        "for i in tqdm(range(X_test.shape[0])):\n",
        "    X_test_prep[i] = preproc_img(X_test[i])"
      ],
      "execution_count": 53,
      "outputs": [
        {
          "output_type": "stream",
          "text": [
            "100%|██████████| 34799/34799 [05:59<00:00, 96.89it/s] \n",
            "100%|██████████| 4410/4410 [00:43<00:00, 100.74it/s]\n"
          ],
          "name": "stderr"
        }
      ]
    },
    {
      "cell_type": "code",
      "metadata": {
        "id": "S6Je1rnmo5fn",
        "colab_type": "code",
        "colab": {
          "base_uri": "https://localhost:8080/",
          "height": 1000
        },
        "outputId": "22e1e471-8012-4b92-df6f-3df3563206e2"
      },
      "source": [
        "model = get_cnn_v6(input_shape, num_classes)\n",
        "model_trained = train_model(model, X_train_prep, y_train, params_fit)\n",
        "predict(model_trained, X_test_prep, y_test)"
      ],
      "execution_count": 56,
      "outputs": [
        {
          "output_type": "stream",
          "text": [
            "Model: \"sequential_11\"\n",
            "_________________________________________________________________\n",
            "Layer (type)                 Output Shape              Param #   \n",
            "=================================================================\n",
            "conv2d_49 (Conv2D)           (None, 30, 30, 32)        896       \n",
            "_________________________________________________________________\n",
            "conv2d_50 (Conv2D)           (None, 30, 30, 32)        9248      \n",
            "_________________________________________________________________\n",
            "max_pooling2d_26 (MaxPooling (None, 15, 15, 32)        0         \n",
            "_________________________________________________________________\n",
            "dropout_38 (Dropout)         (None, 15, 15, 32)        0         \n",
            "_________________________________________________________________\n",
            "conv2d_51 (Conv2D)           (None, 15, 15, 64)        18496     \n",
            "_________________________________________________________________\n",
            "conv2d_52 (Conv2D)           (None, 13, 13, 64)        36928     \n",
            "_________________________________________________________________\n",
            "max_pooling2d_27 (MaxPooling (None, 6, 6, 64)          0         \n",
            "_________________________________________________________________\n",
            "dropout_39 (Dropout)         (None, 6, 6, 64)          0         \n",
            "_________________________________________________________________\n",
            "conv2d_53 (Conv2D)           (None, 6, 6, 64)          36928     \n",
            "_________________________________________________________________\n",
            "conv2d_54 (Conv2D)           (None, 4, 4, 64)          36928     \n",
            "_________________________________________________________________\n",
            "max_pooling2d_28 (MaxPooling (None, 2, 2, 64)          0         \n",
            "_________________________________________________________________\n",
            "dropout_40 (Dropout)         (None, 2, 2, 64)          0         \n",
            "_________________________________________________________________\n",
            "flatten_11 (Flatten)         (None, 256)               0         \n",
            "_________________________________________________________________\n",
            "dense_23 (Dense)             (None, 1024)              263168    \n",
            "_________________________________________________________________\n",
            "dropout_41 (Dropout)         (None, 1024)              0         \n",
            "_________________________________________________________________\n",
            "dense_24 (Dense)             (None, 1024)              1049600   \n",
            "_________________________________________________________________\n",
            "dropout_42 (Dropout)         (None, 1024)              0         \n",
            "_________________________________________________________________\n",
            "dense_25 (Dense)             (None, 43)                44075     \n",
            "=================================================================\n",
            "Total params: 1,496,267\n",
            "Trainable params: 1,496,267\n",
            "Non-trainable params: 0\n",
            "_________________________________________________________________\n",
            "Epoch 1/25\n",
            "272/272 [==============================] - 4s 15ms/step - loss: 1.7723 - accuracy: 0.4884 - val_loss: 0.3287 - val_accuracy: 0.8929\n",
            "Epoch 2/25\n",
            "272/272 [==============================] - 4s 14ms/step - loss: 0.3703 - accuracy: 0.8805 - val_loss: 0.1126 - val_accuracy: 0.9645\n",
            "Epoch 3/25\n",
            "272/272 [==============================] - 4s 14ms/step - loss: 0.2097 - accuracy: 0.9328 - val_loss: 0.0663 - val_accuracy: 0.9808\n",
            "Epoch 4/25\n",
            "272/272 [==============================] - 4s 14ms/step - loss: 0.1477 - accuracy: 0.9538 - val_loss: 0.0301 - val_accuracy: 0.9910\n",
            "Epoch 5/25\n",
            "272/272 [==============================] - 4s 14ms/step - loss: 0.1155 - accuracy: 0.9641 - val_loss: 0.0240 - val_accuracy: 0.9924\n",
            "Epoch 6/25\n",
            "272/272 [==============================] - 4s 14ms/step - loss: 0.0946 - accuracy: 0.9715 - val_loss: 0.0192 - val_accuracy: 0.9950\n",
            "Epoch 7/25\n",
            "272/272 [==============================] - 4s 14ms/step - loss: 0.0862 - accuracy: 0.9738 - val_loss: 0.0142 - val_accuracy: 0.9958\n",
            "Epoch 8/25\n",
            "272/272 [==============================] - 4s 15ms/step - loss: 0.0706 - accuracy: 0.9778 - val_loss: 0.0178 - val_accuracy: 0.9946\n",
            "Epoch 9/25\n",
            "272/272 [==============================] - 4s 14ms/step - loss: 0.0737 - accuracy: 0.9779 - val_loss: 0.0096 - val_accuracy: 0.9973\n",
            "Epoch 10/25\n",
            "272/272 [==============================] - 4s 14ms/step - loss: 0.0625 - accuracy: 0.9803 - val_loss: 0.0111 - val_accuracy: 0.9964\n",
            "Epoch 11/25\n",
            "272/272 [==============================] - 4s 14ms/step - loss: 0.0569 - accuracy: 0.9825 - val_loss: 0.0099 - val_accuracy: 0.9972\n",
            "Epoch 12/25\n",
            "272/272 [==============================] - 4s 14ms/step - loss: 0.0584 - accuracy: 0.9826 - val_loss: 0.0116 - val_accuracy: 0.9966\n",
            "Epoch 13/25\n",
            "272/272 [==============================] - 4s 14ms/step - loss: 0.0546 - accuracy: 0.9835 - val_loss: 0.0060 - val_accuracy: 0.9985\n",
            "Epoch 14/25\n",
            "272/272 [==============================] - 4s 14ms/step - loss: 0.0530 - accuracy: 0.9845 - val_loss: 0.0056 - val_accuracy: 0.9983\n",
            "Epoch 15/25\n",
            "272/272 [==============================] - 4s 14ms/step - loss: 0.0530 - accuracy: 0.9844 - val_loss: 0.0060 - val_accuracy: 0.9981\n",
            "Epoch 16/25\n",
            "272/272 [==============================] - 4s 14ms/step - loss: 0.0435 - accuracy: 0.9866 - val_loss: 0.0044 - val_accuracy: 0.9986\n",
            "Epoch 17/25\n",
            "272/272 [==============================] - 4s 14ms/step - loss: 0.0521 - accuracy: 0.9854 - val_loss: 0.0048 - val_accuracy: 0.9987\n",
            "Epoch 18/25\n",
            "272/272 [==============================] - 4s 14ms/step - loss: 0.0400 - accuracy: 0.9889 - val_loss: 0.0057 - val_accuracy: 0.9983\n",
            "Epoch 19/25\n",
            "272/272 [==============================] - 4s 14ms/step - loss: 0.0460 - accuracy: 0.9866 - val_loss: 0.0079 - val_accuracy: 0.9978\n",
            "Epoch 20/25\n",
            "272/272 [==============================] - 4s 14ms/step - loss: 0.0461 - accuracy: 0.9867 - val_loss: 0.0060 - val_accuracy: 0.9983\n",
            "Epoch 21/25\n",
            "272/272 [==============================] - 4s 14ms/step - loss: 0.0441 - accuracy: 0.9870 - val_loss: 0.0035 - val_accuracy: 0.9989\n",
            "Epoch 22/25\n",
            "272/272 [==============================] - 4s 14ms/step - loss: 0.0428 - accuracy: 0.9879 - val_loss: 0.0027 - val_accuracy: 0.9993\n",
            "Epoch 23/25\n",
            "272/272 [==============================] - 4s 14ms/step - loss: 0.0405 - accuracy: 0.9888 - val_loss: 0.0032 - val_accuracy: 0.9989\n",
            "Epoch 24/25\n",
            "272/272 [==============================] - 4s 14ms/step - loss: 0.0421 - accuracy: 0.9881 - val_loss: 0.0049 - val_accuracy: 0.9987\n",
            "Epoch 25/25\n",
            "272/272 [==============================] - 4s 14ms/step - loss: 0.0410 - accuracy: 0.9888 - val_loss: 0.0022 - val_accuracy: 0.9993\n"
          ],
          "name": "stdout"
        },
        {
          "output_type": "execute_result",
          "data": {
            "text/plain": [
              "0.9789115646258504"
            ]
          },
          "metadata": {
            "tags": []
          },
          "execution_count": 56
        }
      ]
    },
    {
      "cell_type": "code",
      "metadata": {
        "id": "4KnQDPr8q34A",
        "colab_type": "code",
        "colab": {}
      },
      "source": [
        ""
      ],
      "execution_count": 0,
      "outputs": []
    }
  ]
}